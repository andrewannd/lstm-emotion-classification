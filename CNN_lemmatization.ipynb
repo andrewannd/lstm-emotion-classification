{
 "cells": [
  {
   "cell_type": "code",
   "execution_count": 10,
   "id": "d018716b-0cb0-43f3-abfd-ace6f613534c",
   "metadata": {},
   "outputs": [],
   "source": [
    "from datasets import load_dataset\n",
    "import random\n",
    "import string\n",
    "from imblearn.over_sampling import SMOTE, RandomOverSampler\n",
    "from sklearn.metrics import accuracy_score, precision_score, recall_score, f1_score, confusion_matrix, classification_report\n",
    "from tokenizers import Tokenizer, models, trainers\n",
    "from tokenizers.pre_tokenizers import Whitespace\n",
    "import torch.nn as nn\n",
    "import torch\n",
    "import nltk\n",
    "from nltk.corpus import stopwords\n",
    "from nltk.stem.wordnet import WordNetLemmatizer\n",
    "import numpy as np\n",
    "from tqdm import tqdm\n",
    "import matplotlib.pyplot as plt\n",
    "from collections import Counter"
   ]
  },
  {
   "cell_type": "code",
   "execution_count": 11,
   "id": "0b4156b6",
   "metadata": {},
   "outputs": [
    {
     "name": "stderr",
     "output_type": "stream",
     "text": [
      "[nltk_data] Downloading package wordnet to /home/deyuq/nltk_data...\n",
      "[nltk_data]   Package wordnet is already up-to-date!\n",
      "[nltk_data] Downloading package stopwords to /home/deyuq/nltk_data...\n",
      "[nltk_data]   Package stopwords is already up-to-date!\n"
     ]
    },
    {
     "data": {
      "text/plain": [
       "True"
      ]
     },
     "execution_count": 11,
     "metadata": {},
     "output_type": "execute_result"
    }
   ],
   "source": [
    "nltk.download('wordnet')\n",
    "nltk.download('stopwords')"
   ]
  },
  {
   "cell_type": "code",
   "execution_count": 12,
   "id": "9e5d4d27-6fcc-4e38-ad99-5aedad8842fe",
   "metadata": {},
   "outputs": [],
   "source": [
    "emotions = load_dataset(\"dair-ai/emotion\")"
   ]
  },
  {
   "cell_type": "code",
   "execution_count": 13,
   "id": "a0315fef-7e42-4278-8dd5-6078ec8b754b",
   "metadata": {},
   "outputs": [],
   "source": [
    "labels = [\"sadness\", \"joy\", \"love\", \"anger\", \"fear\", \"surprise\"]"
   ]
  },
  {
   "cell_type": "code",
   "execution_count": 14,
   "id": "c66816cb-e29d-4940-95bc-b785747447e0",
   "metadata": {},
   "outputs": [],
   "source": [
    "train_data = emotions[\"train\"]\n",
    "validation_data = emotions[\"validation\"]\n",
    "test_data = emotions[\"test\"]"
   ]
  },
  {
   "cell_type": "code",
   "execution_count": 15,
   "id": "451f796f",
   "metadata": {},
   "outputs": [],
   "source": [
    "def cleaning(text):\n",
    "    #remove punctuations and uppercase\n",
    "    clean_text = text.translate(str.maketrans('','',string.punctuation)).lower()\n",
    "    \n",
    "    #remove stopwords\n",
    "    clean_text = [word for word in clean_text.split() if word not in stopwords.words('english')]\n",
    "    \n",
    "    #lemmatize the word\n",
    "    sentence = []\n",
    "    for word in clean_text:\n",
    "        lemmatizer = WordNetLemmatizer()\n",
    "        sentence.append(lemmatizer.lemmatize(word, 'v'))\n",
    "\n",
    "    return ' '.join(sentence)"
   ]
  },
  {
   "cell_type": "code",
   "execution_count": 16,
   "id": "b7dd943d",
   "metadata": {},
   "outputs": [
    {
     "name": "stderr",
     "output_type": "stream",
     "text": [
      "[nltk_data] Downloading package wordnet to /home/deyuq/nltk_data...\n",
      "[nltk_data]   Package wordnet is already up-to-date!\n"
     ]
    },
    {
     "data": {
      "text/plain": [
       "True"
      ]
     },
     "execution_count": 16,
     "metadata": {},
     "output_type": "execute_result"
    }
   ],
   "source": [
    "nltk.download('wordnet')"
   ]
  },
  {
   "cell_type": "code",
   "execution_count": 17,
   "id": "566b323a",
   "metadata": {},
   "outputs": [],
   "source": [
    "lemmatized_train_data = []\n",
    "lemmatized_val_data = []\n",
    "lemmatized_test_data = []\n",
    "for sentence in train_data[\"text\"]:\n",
    "    lemmatized_train_data.append(cleaning(sentence))\n",
    "for sentence in validation_data[\"text\"]:\n",
    "    lemmatized_val_data.append(cleaning(sentence))\n",
    "for sentence in test_data[\"text\"]:\n",
    "    lemmatized_test_data.append(cleaning(sentence))"
   ]
  },
  {
   "cell_type": "code",
   "execution_count": 18,
   "id": "2eb56b78",
   "metadata": {},
   "outputs": [
    {
     "data": {
      "text/plain": [
       "['didnt feel humiliate',\n",
       " 'go feel hopeless damn hopeful around someone care awake',\n",
       " 'im grab minute post feel greedy wrong',\n",
       " 'ever feel nostalgic fireplace know still property',\n",
       " 'feel grouchy',\n",
       " 'ive feel little burden lately wasnt sure',\n",
       " 'ive take milligrams time recommend amount ive fall asleep lot faster also feel like funny',\n",
       " 'feel confuse life teenager jade year old man',\n",
       " 'petronas years feel petronas perform well make huge profit',\n",
       " 'feel romantic',\n",
       " 'feel like make suffer see mean something',\n",
       " 'feel run divine experience expect type spiritual encounter',\n",
       " 'think easiest time year feel dissatisfy',\n",
       " 'feel low energy thirsty',\n",
       " 'immense sympathy general point possible proto writer try find time write corner life sign agent let alone publish contract feel little precious',\n",
       " 'feel reassure anxiety side',\n",
       " 'didnt really feel embarrass',\n",
       " 'feel pretty pathetic time',\n",
       " 'start feel sentimental dolls child begin collection vintage barbie dolls sixties',\n",
       " 'feel compromise skeptical value every unit work put',\n",
       " 'feel irritate reject without anyone anything say anything',\n",
       " 'feel completely overwhelm two strategies help feel ground pour heart journal form letter god end list five things grateful',\n",
       " 'feel amuse delight',\n",
       " 'able help chai lifeline support encouragement great feel glad able help',\n",
       " 'already feel like fuck though dont usually eat morning',\n",
       " 'still love wish best longer tolerate effect bm live fact turn bitter angry person always particularly kind people around feel stress',\n",
       " 'feel inhibit someone elses kitchen like im paint someone elses picture',\n",
       " 'become overwhelm feel defeat',\n",
       " 'feel kinda appal feel like need explain wide lenghth body measure etc pp',\n",
       " 'feel superior dead chicken grieve child',\n",
       " 'get giddy feel elegant perfectly fit pencil skirt',\n",
       " 'remember feel acutely distress days',\n",
       " 'see hear read past couple days leave feel impress company',\n",
       " 'climb hill feel frustrate id pretty much pace entirely wrong course factor never ever hamper make dent day',\n",
       " 'imagine real life scenario would emotionally connect enough someone feel totally accept safe morally acceptable close prolong physical contact sex expect subsequently',\n",
       " 'sure would make feel content anything',\n",
       " 'feel need creative',\n",
       " 'however want know something someone cause feel less splendid self step away',\n",
       " 'feel bite rude write elderly gentleman ask gift feel bite greedy christmas mild greed',\n",
       " 'need need someone need protect feel safe small find season word',\n",
       " 'plan share everyday life stories travel adventure inspirations handmade creations hope also feel inspire',\n",
       " 'already christmas tree get two feel festive sure spur get start book',\n",
       " 'ive wear little concealer days im feel brave dont want pale perfect',\n",
       " 'feel strongly passionate jerk decide poke make fun us',\n",
       " 'feel discourage already rob peter pay paul get cow year cant afford get cow way',\n",
       " 'feel listless need new things something different',\n",
       " 'lose special mind worry still sane want feel felt read book know many time say sam special guarantee many time use paragraph tell special',\n",
       " 'let go sad feel want accept first home mine',\n",
       " 'boat trip denmark',\n",
       " 'stop feel cold begin feel hot',\n",
       " 'need feel dough make sure perfect',\n",
       " 'find feel little discourage morning',\n",
       " 'feel selfish spoil',\n",
       " 'stymie little bite write feel unsure might go somewhere story unintended',\n",
       " 'bag qaf look cryin jacynthe lookin good feelin gorgeous rupaul skin scissor sisters valentine sun feed kayle daddy gerling awake unkind u',\n",
       " 'feel know basically like fake realm science fiction',\n",
       " 'hate live dads roof give excuse asshole hes provide live think feel need make feel unwelcome possible ill leave',\n",
       " 'keep feel pleasantly surprise supportiveness also ease new situations',\n",
       " 'feel anymore vigorous sexual activity come yes misspell cumming days part begin fall',\n",
       " 'feel mom graceful warm love smile rob time nurture heal',\n",
       " 'feel talk brother law extremely popular one think stiff',\n",
       " 'eat could feel gentle tingle throughout almost feel heal take place cellular level',\n",
       " 'feel like pressure young beautiful thin depend trend girls rejuvenate butt implant',\n",
       " 'begin several time week feel torture hallucinations move people figure sound vibrations',\n",
       " 'nearly finish week detox feel amaze',\n",
       " 'feel selfish read back former post never ask prayers others never consider may others deserve prayers answer',\n",
       " 'know pain parent feel enrage child become violent',\n",
       " 'roller coaster emotions suppose feelings something unpleasant come',\n",
       " 'suppose truth need share havent feel faithful lately ive dwell doubt uncertainty faith',\n",
       " 'feel brave buy clearly makeup',\n",
       " 'feel miserable c also proudest mum earth',\n",
       " 'figure family love us matter around anyone else feel embarrass michelle go ballistic',\n",
       " 'necessarily think f bomb sex necessary stories feel reassure see print journals',\n",
       " 'feel ovaries ache talk like put',\n",
       " 'feel like much chris mostly take many picture unimportant stuff',\n",
       " 'im tire book ready find give unsuitable image feel blame result sit well',\n",
       " 'successfully manage stretch mxm canvas feel achievement worthwhile usage money time use canvas future brief',\n",
       " 'think feelings one nay important things',\n",
       " 'feel completely honor influence young talented fully alive beautiful girl woman',\n",
       " 'feel anger firey',\n",
       " 'feel like miserable piece garbage',\n",
       " 'feel like need make list leanne would appal think dont miss anything',\n",
       " 'drive dannika school feel little bite rush greet turn corner',\n",
       " 'remember feel hellip furious shooter',\n",
       " 'feel happy excite since learn many things',\n",
       " 'feel show around show horse people trust relax show horse safe quiet handle frequently',\n",
       " 'couple things leave make start december do feel smug',\n",
       " 'think u could make feel realize everything ok',\n",
       " 'feel worthless time struggle find work',\n",
       " 'able lay bed dark feel terrify least',\n",
       " 'ready meet mom airport feel ever supportive arm around',\n",
       " 'im feel bitter today mood strange entire day guess',\n",
       " 'mums brother pass away involve car accident bring present pass form five exams fly colour',\n",
       " 'let go animosity towards anyone feel wrong',\n",
       " 'talk dog feel cannot understand word read emotions know supportive decide go home',\n",
       " 'feel like throw away shitty piece shit paper',\n",
       " 'im start feel wryly amuse banal comedy errors life turn',\n",
       " 'find every body beautiful want people feel vital body',\n",
       " 'hear owners feel victimize associations associations attorneys property manager',\n",
       " 'say goodbye fam theyre sad cry feel like heartless bitch hey im pretty excite fly first time know also spend year another country',\n",
       " 'wont let child cry feel love lily little go opportunities last short months',\n",
       " 'alba feel good im fit',\n",
       " 'feel excite im feel like ton catch',\n",
       " 'also know good feel look back see honor word help start',\n",
       " 'mean really really hard work obtain high technical skill wushu feel kinda ashamed somehow motivate saw kid wushu performances whole heartedly despite tiredness',\n",
       " 'feel like things get little overwhelm spritz toner really help calm soothe',\n",
       " 'hope realize little effort require make person feel better situation whether family member college high school friend neighbor street even complete stranger',\n",
       " 'feel festive today even go put tree soon finish catch week goings ons coronation street',\n",
       " 'find ill seriously',\n",
       " 'alright class combination feel unsuccessful man handle stress late horrible week result almost cry finish grapple',\n",
       " 'feel rarely advance worthwhile cause always stick rule post anything online wouldnt prepare say somebodys face',\n",
       " 'feel useful',\n",
       " 'feel like pain cannot imagine become passionate group idea cause pain',\n",
       " 'feel ugly incline wear ratty jeans sweatshirt beautiful dress though might still wear pair heel around house boost self esteem ever slightly definitely bother buy new pair',\n",
       " 'im feel homesick yet im feel alright',\n",
       " 'dance feel pretty',\n",
       " 'workout every morning feel fabulous',\n",
       " 'feel eye touch word eye know assuredly return love know shall vain',\n",
       " 'feel fabulous friday morning start get awful cramp work',\n",
       " 'feel honour able call friends share brotherhood',\n",
       " 'begin feel apprehensive thick black rain cloud storm sky town',\n",
       " 'state reason feel fearful feel unsafe',\n",
       " 'feel like get shake tsa quite yet pull side creative croissants lunch',\n",
       " 'get group feel really awkward overcompensate talkative get really quiet',\n",
       " 'excite finally meet companion companion time especially lonely lonely companion never disappoint companion put arm around make feel love',\n",
       " 'feel pretty safe blog img src http',\n",
       " 'feel pretty eager get do fun plan quilt',\n",
       " 'feel horny ask let go home',\n",
       " 'think poem put pressure feel uncomfortable sense feel feel understand understand love able love',\n",
       " 'feel stranger strange land raise son place father ancestral home',\n",
       " 'leave shower question feel gorgeous fantastic body confident movement effortlessly graceful',\n",
       " 'feel energetic bouncy happy go gym run around outside kid take pram long walk often three one day',\n",
       " 'still feel strong',\n",
       " 'burst tear devastate release feelings thoughts seem know rich also go space without dump',\n",
       " 'want get pumpkin spice latte morning hot last thing want hot coffee maybe feel little bitter',\n",
       " 'suppose feel badly bite skeptical pain last months shes hyperchondria exaggeration habit past though never openly question',\n",
       " 'clench corner bed feel assure',\n",
       " 'also feel like selfish grateful life amaze things',\n",
       " 'call god see god book figure god right name feel utterly affirm accept without question',\n",
       " 'know perhaps girls office nice short hair perhaps feel rebellious',\n",
       " 'feel miserable family type celebrate eid',\n",
       " 'might go get car wash feel really generous car need',\n",
       " 'still feel sleep deprive almost sleep night give us',\n",
       " 'feel really violent right',\n",
       " 'blog sit feel content dog amp cat etc know lucky truth',\n",
       " 'start feel funny friday wake sick dog',\n",
       " 'feel need protect parent witch hunt repress memory therapy',\n",
       " 'feel disgust even associate woman race nationality',\n",
       " 'laugh bitterly wasnt feel bitter',\n",
       " 'know feel think wish could us us know however much hat first experience would remember forever',\n",
       " 'feel quite mellow want soft easy look wear begin cold',\n",
       " 'tell maybe need time think ive feel indecisive things lately',\n",
       " 'still feel genre disservice stories resolve artifically',\n",
       " 'always know feel artistic write name artistic mood manitz draw circle dot bigger dot artistic feel line like accent mark spanish im piss',\n",
       " 'remember feel really terrify brazil bus go steep mountain hill side mountain middle big storm wonder go fall',\n",
       " 'could feel whimper think unloved uncared',\n",
       " 'im certainly go sit tell whats go personal life feel ever curious whats go life youd watch show',\n",
       " 'im sorry wasnt humor post im feel funny',\n",
       " 'feel ive get foot door fantastic world walk run trail fell mountains',\n",
       " 'say whatever come mind tell directly feel jealous girl insecure love person trust worthy friend sweet one love',\n",
       " 'feel strange come back work one day holiday',\n",
       " 'im clearly influence dash happiness emily dickinson example use dash instead colons semi colons enhance feelings rush enjambment sonnet',\n",
       " 'fatter thing life remain control whether get eat peanut butter bread get home impossible day first world look yet third world feel hell needy neglect little girls',\n",
       " 'could claim redeem genre leave feel entirely frustrate point beat head wall either',\n",
       " 'feel sad hopeless',\n",
       " 'im get feel class little intimidate concept light',\n",
       " 'still feel groggy get routine son',\n",
       " 'feel view isnt go popular thats fine',\n",
       " 'want hold feel shock awe wonder forever',\n",
       " 'hear rumour st year exam result fear might one failures',\n",
       " 'want feel value appreciate know people love arent go anywhere even nature relationship change',\n",
       " 'know days feel distract',\n",
       " 'use regularly relax music always feel invigorate afterward',\n",
       " 'im feel distract tend practice eye shut much possible',\n",
       " 'feel like perfect w see youtube influence even know trend',\n",
       " 'specifically want tango feel shy maks quite opposite hard get far enough away get good pics lol',\n",
       " 'also feel weird sleep bed two sleep',\n",
       " 'wish okay think earlier today heres thing cooped amp restless make feel needy',\n",
       " 'ive lose weight could fit tiny skirt ive unable wear didnt feel confident',\n",
       " 'hope feel bite creative soon miss presence life blog',\n",
       " 'fan current president conservative make feel unwelcome',\n",
       " 'enclose verse could weigh much think feel curious hear odd couple',\n",
       " 'begin feel complacent life',\n",
       " 'feel vulnerable alone',\n",
       " 'remember feel inspire think fine example parent',\n",
       " 'feel like always one get punish stupid things feel like chastise behave',\n",
       " 'really feel life perfect right isnt much ask hope everything would stay',\n",
       " 'im simply feel content',\n",
       " 'im say cut everyone life feel important find comfort solitude meditation work project alone',\n",
       " 'think im stupid feel nervous',\n",
       " 'feel honor',\n",
       " 'feel act god work life amaze feel',\n",
       " 'feel im like bird fly air carefree manner',\n",
       " 'revise reply mind make sure reply sound appropriate enough person receive reply feel offend',\n",
       " 'felt sad friend mine die felt something irrevocably go away',\n",
       " 'die would alex matt feel regretful come visit',\n",
       " 'feel educate families support educationg mamas papas key',\n",
       " 'im sure lose feel like everyone hostile toward hate feel',\n",
       " 'feel like bore sew make since easy nothing else say fabric usage',\n",
       " 'always like use original fragrance freshen lightly scent underwear drawer feel gorgeously glamorous girly',\n",
       " 'feel like talented young man feel talented work',\n",
       " 'feel curious things around',\n",
       " 'feel reason apart others live im help become something push succeed successful happy',\n",
       " 'feel uncomfortable guess',\n",
       " 'feel pretty mellow far whatever heal wound process may get underway',\n",
       " 'wonder sometimes whether add antagonism misunderstand many people towards us feel reluctant wholeheartedly support traditional armistice day remembrances',\n",
       " 'legs would feel shitty miles would come around like always',\n",
       " 'know unfair reaction run ways explain feel shake best come right',\n",
       " 'seriously feel bless support home amaze',\n",
       " 'feel abuse malign mostly tire nervous feel anticipate danger',\n",
       " 'feel pretty restless right type',\n",
       " 'know gosman touristy place go montauk area infrequent visitors area want head harbor feel gentle caw seagulls lap water wood pilings relax breeze come water',\n",
       " 'admit hilarious e card seriously exactly feel stress feel moment could start hy',\n",
       " 'write last year feel dull inarticulate normal',\n",
       " 'id kick gear feel irritable motivation ever',\n",
       " 'feel child innocent feelings illustrate',\n",
       " 'satisfaction feel longer support contribute looter drive consumerism make walk corpse america revere younger',\n",
       " 'start feel resentful',\n",
       " 'spend vacation obligations headaches feel like emotional blackmail three place',\n",
       " 'feel herpes come would surprise point make checkup clinic wednesday',\n",
       " 'feel fuck like everyday life',\n",
       " 'ive work really hard year try make child class feel like value',\n",
       " 'feel dishearten word late',\n",
       " 'feel like bitchy time upon retrospect think try shake',\n",
       " 'still second guess still terrible time make definitive decisions certain truths know feel assure truths',\n",
       " 'feel like egg benedict something equally delicious',\n",
       " 'im feel way trust',\n",
       " 'im feel inspire summery elements favorite past time beach bummin',\n",
       " 'feel smile love even gorgeous',\n",
       " 'continue define discover home mean amsterdam whenever feel pang blank sickness line miss cultural mindset american city life much different cultural mindset amsterdam',\n",
       " 'make arcade simple purpose try make feel absolutely comfortable physically emotionally practically absolutely',\n",
       " 'say feel sympathetic',\n",
       " 'feel eager hop tube ride eye london',\n",
       " 'go online see friend talk another one talk feel ignore feel unloved',\n",
       " 'monitor say anything ever come across blog feel offend please dont stop',\n",
       " 'feel like weird cancer one time',\n",
       " 'want feel safe well maybe maybe theres small chance feel joy dream come true',\n",
       " 'im feel cranky',\n",
       " 'also think puzzle particular administrator single praise ability get students read feel ssr time productive use class time',\n",
       " 'try fill befriend people know use didnt care need feel accept even complete loser',\n",
       " 'feel stress always',\n",
       " 'remember feel another cramp also ignore',\n",
       " 'hope feel mellow well feed well sleep peace within external world',\n",
       " 'also learn take lot effort positive think break tear feel exhaust guilty better mom',\n",
       " 'im feel awful hang friend new baby day',\n",
       " 'feel relax fine',\n",
       " 'feel suffer really feel pain',\n",
       " 'go sleep feel give precious time something else life',\n",
       " 'feel like neglect beloved mom blog',\n",
       " 'shalt say cos din feel thing write hw keen xxx',\n",
       " 'feel terrify like im edge precipice star ahead',\n",
       " 'feel totally listless exams come go whole five months front uni free time',\n",
       " 'feel furious right life advocate tell live die lobby support politicians sympathic view',\n",
       " 'feel abuse way',\n",
       " 'im still pay attention feel distract',\n",
       " 'start third block feel hot cold tingly time know still five hours examination ahead idea would good',\n",
       " 'im hesitant make suggestions feel outcome would sincere',\n",
       " 'feel terribly fond majority precise time',\n",
       " 'feel gain control damage goods aspects personal security',\n",
       " 'bomb first interview leave second interview feel pretty fan freak tastic',\n",
       " 'think kind take us long build good inventory sauce oil spice non perishables feel like chance make something delicious without specifically go buy every single item recipe',\n",
       " 'feel advise dads whose children soon become teenagers cool pull kid high school pick smelly jalopy plant come windows',\n",
       " 'feel victimize drag country head sand traditionalists hesitate call conservatives fear offend real honest god conservatives still think world create years ago stuff like skeletal remain kind hoax',\n",
       " 'would feel lucky call materials kit site mine beautifully curated',\n",
       " 'blood prove reason feel lethargic rubbish low iron prescribe iron tablets',\n",
       " 'mind feel like mind dangerous life',\n",
       " 'feel like love everyone least compassionate toward others',\n",
       " 'feel punish neglect',\n",
       " 'feel like doesnt capture beauty lovely polish',\n",
       " 'feel like lose main root feel less secure emotionally financially socially',\n",
       " 'feel like bite bullet every time think feel stress im fully support decisions',\n",
       " 'know obnoxiously immature sound verbal tics voice kind nasal always come across like sharpest tool shed especially feel awkward know know know',\n",
       " 'id terrible nightmare feel little disturb',\n",
       " 'didnt want walk pass case customers feel disturb',\n",
       " 'want sufferers able find hope battle help feel alone',\n",
       " 'feel exceptionally reluctant go school tomorrow even though monday timetable pretty good',\n",
       " 'festive feel delicious wheeeeee great night',\n",
       " 'look forward beat feel like disappointment husband emotional pain',\n",
       " 'im sick feel crappy',\n",
       " 'feel like almost convince go pattern',\n",
       " 'also wear im wear dress make feel slutty feel like antique underwears obviously little bite edgy maybe little bite little bite',\n",
       " 'feel perverse pride self control manage stay order reach tempt human flesh close us',\n",
       " 'feel impatient easily annoy outrage blatant defiance seem olivias prominent characteristic days',\n",
       " 'positively giddy kid leave morning last official class year im feel little sad',\n",
       " 'feel supportive also cant help feel jealous',\n",
       " 'mainly like text feel like much clever write word rather speak',\n",
       " 'seriouly feel respect dont privacy order around',\n",
       " 'say word devotee feel relieve hear title deen bandhu fall person become afraid title uplifter devote consider true devotee hence unworthy benefit aspect personality',\n",
       " 'personalities feel pain suffer',\n",
       " 'guess would feel like joseph walt trust care mother finance six months die time want defend self god make quiet',\n",
       " 'warm start feel little lethargic',\n",
       " 'feel excelent sometimes theres nothing especially since im really keen video game anymore watch bite anime movies theres get life',\n",
       " 'wonder master feel r want eager please master could much enjoy attentions wrong desire return affections',\n",
       " 'im feel little bite positive things quite hard first savings eat quickly cost didnt want become burden boyfriend weve come end im feel brighter inspire things come',\n",
       " 'im feel rather sentimental right say feel lucky maxs mom',\n",
       " 'make show feel isolate crowd ill know wrong anti social feel',\n",
       " 'ive learn turn emotions often find feel completely blank mother cry continuously suicidalness',\n",
       " 'feel loyal style',\n",
       " 'understand may feel youd rather bite vulnerable homeless london precise way',\n",
       " 'finally stop feel listless like waste space',\n",
       " 'know im feel agitate side effect high dose',\n",
       " 'feel shift positive',\n",
       " 'feel brave enough',\n",
       " 'fear thief',\n",
       " 'feel clever nov',\n",
       " 'always spend money mean feel dissatisfy exit store',\n",
       " 'im feel really quite angry',\n",
       " 'feel kerry didnt support civil unions gay equality',\n",
       " 'feel really ashamed',\n",
       " 'feel amaze people life',\n",
       " 'finally leave feel judge ridicule intelligent',\n",
       " 'start feel bite insult stranger',\n",
       " 'many days feel hopeless today light end yellow brick road shin little brighter',\n",
       " 'actually feel sorrowful',\n",
       " 'see women wear boot feel envious want curse',\n",
       " 'feel feel tell together apologize make keep love bits bits',\n",
       " 'go say feel impress youre naomi klein right',\n",
       " 'begin feel sense dull cold black unconsciousness come',\n",
       " 'suspect feel less fond private',\n",
       " 'honour young woman felt comfortable enough ask kind faux hawk thing go back must look dykey enough feel safe talk',\n",
       " 'wonder cast caveman tell perfect part feel insult compliment',\n",
       " 'feel convince plus many diverse price tag feel sure everyone come fund plot light relatively economically',\n",
       " 'feel empty baby isnt',\n",
       " 'stop feel exhaust href http provokingbeauty',\n",
       " 'im feel font friendly',\n",
       " 'hand bead consciously breathe consciously work feel calm list things accomplish afternoon',\n",
       " 'always feel intimidate people especially always compare people ever since young',\n",
       " 'make feel rotten',\n",
       " 'start feel hostile check hemorrhoids',\n",
       " 'love wear new shoe feel glamourous get pair designer shoe love box trimmings come',\n",
       " 'know largely fact feelings romantic sexual successfully hide',\n",
       " 'love feel something warmly hug feel precious small precious someone something',\n",
       " 'im feel far mellow normal',\n",
       " 'become dismay study people wear start feel like though outfit gorgeous buy way',\n",
       " 'dont want wax draw anything need unibrow maybe get rid spare hairs creep toward eyelid im feel brave',\n",
       " 'im feel lucky width li style border px list style outside margin px px',\n",
       " 'recall high school feelings long watch olympic runners feel st',\n",
       " 'wake feel confident watch bodypump dvd gather coach tip compulsory cue',\n",
       " 'didnt say strong feelings always make skeptical first',\n",
       " 'want talk limit time phone current arrangment feel hesitant bring',\n",
       " 'begin feel theres good chance might pass',\n",
       " 'feel like little control help sweet pea better know ahead',\n",
       " 'feel like receive end violent attack',\n",
       " 'feel worthwhile document people familiar batch file',\n",
       " 'feel especially thankful many small blessings life right',\n",
       " 'hop weatherman right forecast stay home dont venture rain tomorrow feel kind creative',\n",
       " 'feel like im edge microcosm one awkward moment miss party id outside',\n",
       " 'feel bite funny actually',\n",
       " 'learn nothing else last two years best feel way trust instincts',\n",
       " 'feel also blossom eager anxiety',\n",
       " 'feel burden share',\n",
       " 'always want nemo side sleep without feel weird even though doesnt happen often get',\n",
       " 'im feel outfit heel gorgeous',\n",
       " 'feel confuse',\n",
       " 'feel session useful give tool need move forward life',\n",
       " 'feel selfish bring loneliness child know parent newtown grieve lose baby',\n",
       " 'take away disappoint feel pain give heart heal lord one love never betray never lose loyalty even loyal',\n",
       " 'feel envious embarrass',\n",
       " 'could feel frantic need need make',\n",
       " 'feel overwhelm responsibilities teacher someone trust precious gift honor',\n",
       " 'feel tranquil right great',\n",
       " 'feel frustrate new music new lyric clearly nothing',\n",
       " 'think go talk try work things shock find steve decide want thing break feel unloved',\n",
       " 'wouldnt bear witness incredibly well speak bouncer make emo kid feel completely unwelcome',\n",
       " 'tend stop breathe feel stress',\n",
       " 'smoker years quit weeks ago right finish book cant believe free feel know quit terrify life without cigarettes',\n",
       " 'go mailbox talk mailman grocery clerk etc matter small step limit risk complete total willingness experience whatever thoughts feelings sensations emerge important',\n",
       " 'already feel frantic',\n",
       " 'feel like insecurity good thing first start write picture',\n",
       " 'feel compliment insult',\n",
       " 'crave fall submission feel submissive least',\n",
       " 'feel tender fine',\n",
       " 'feel irritate piss even like someone wake moment edge fall deep slumber',\n",
       " 'make work feel little groggy',\n",
       " 'want love feel like sort hindrance thats keep love',\n",
       " 'feel fond ok second think really sensitive spell everything',\n",
       " 'ill get round quarter im feel hopeful one',\n",
       " 'im start feel unwelcome life people already tell',\n",
       " 'feel absolutely fantastic hope baby',\n",
       " 'watch snow fall accumulate conifer tree shovel shirt sleeves feel vigorous',\n",
       " 'feel bitter honkerblonked general',\n",
       " 'feel father already convince',\n",
       " 'love feel passionate live dream get taste feel like nothing stop',\n",
       " 'play rain squeal glee feel mud squish toe enjoy pretty much anything take place outdoors',\n",
       " 'feel humorous put cold callers hold',\n",
       " 'busy stuff never blog thread make feel miserable',\n",
       " 'feel energize curious life god potential give something back society find someone heart',\n",
       " 'feel privilege also lot work',\n",
       " 'im pretty happy little nauseate side feel thrill',\n",
       " 'close eye hear pitiful wail sound cry taste salty taste tear feel anger hurt saturate heart',\n",
       " 'buy virtually fat free thousand islands feel impress hold large quantities substance leave lettuce cucumber friend total sugar become burn fat',\n",
       " 'im sure folks virginia florida handful swing state agree feel put upon insult constant barrage',\n",
       " 'feel like im put innocent man death row',\n",
       " 'sure else help feel smart',\n",
       " 'begin feel every wake moment devote work',\n",
       " 'feel thankful lessons learn',\n",
       " 'feel long sadness see families children',\n",
       " 'feel distinctly call clermont focus little ones seem naughty',\n",
       " 'hope feel glad give many things include memories cherish',\n",
       " 'feel pretty worthless right',\n",
       " 'feel project clever useful enough figure would start share instructables write first one weekend',\n",
       " 'continue think along line probably would do dish anger get wed fight feel completely abuse',\n",
       " 'didnt feel especially nervous finland land paris little unsure would ahead us think st grade student janne suominen',\n",
       " 'feel envious kid certain moments',\n",
       " 'feel like pretty crappy mom',\n",
       " 'im feel piss aac feel kind miserable frustrate life whole week',\n",
       " 'im scar anymore im fine feel terrific surgery',\n",
       " 'still feel vulnerable around',\n",
       " 'honestly sure feel stun',\n",
       " 'feel care person attract care people life',\n",
       " 'im leave feel quite embarrass say nothings new',\n",
       " 'feel unwelcome place buti cant decide scar anything ok situation stay dead end situation afraid things get worse',\n",
       " 'may may cry thank make children feel special love',\n",
       " 'really want go buy yardage art gallery play feel amaze',\n",
       " 'feel like shes lose sense self adapt think loyal',\n",
       " 'feel burden several love ones miss big kid havent see since friday',\n",
       " 'feel still really low abdomen',\n",
       " 'feel like welcome tight knit family make sure feel alone ever',\n",
       " 'feel doubtful',\n",
       " 'usually use smaller legos however year students fine motor delay want students feel successful',\n",
       " 'get exercise feel like im something worthwhile meantime',\n",
       " 'feel like life rich fulfil know people look way live feel misplace pity',\n",
       " 'feel bless amaze yes excite',\n",
       " 'feel hesitant talk',\n",
       " 'try get least minutes day five days week though know skip workout feel particularly lethargic lazy',\n",
       " 'feel beat sick utterly devoid hope ever life want',\n",
       " 'feel hesitant comment want add pileon seem clear involve learn past experience interest apply learn future project',\n",
       " 'feel quite passionate communion tremendous importance personally theologically',\n",
       " 'im feel happy well',\n",
       " 'find much time think without feel depress actually able write imagine without feel trap like miss something near constant feel cities',\n",
       " 'get feel brig sincere strong desire help others become successful financially also build strengthen relationships christianity',\n",
       " 'feel like ive fake feelings lot often would like',\n",
       " 'feel energetic decide go bike rest temples',\n",
       " 'im really like say understand way feel toni ight blame excesses merican dream seldom witness never er see hah hah hah hah hah',\n",
       " 'happpy get good result field academics athletics',\n",
       " 'dont know want work always something make feel stress anxious work whatever job may job require sort rule pressure',\n",
       " 'id pop chair feel like something worthwhile',\n",
       " 'really hop theyd get far enough ahead us could feel like navigate delight punch second control head onto trail woods',\n",
       " 'feel like normally would angry thats actually think could never beautiful size',\n",
       " 'wonder many people feel like perspective think sake without want turn result crappy work',\n",
       " 'feel indecisive whether feel book huckleberry finn censor',\n",
       " 'know like kamiki kun laugh nozomi feel unpleasant knot stomach must think fool nonchan',\n",
       " 'make choice start recognize feel unloved kick choose keep persistence level allow old reaction shut',\n",
       " 'feel like im hat celebrate cant wait till day say make',\n",
       " 'still feel funny write like maybe call spirit guide really observant cheerleader something',\n",
       " 'would rather feel nothing feel surprise find life depress grey unrewarding',\n",
       " 'feel comfortable decision',\n",
       " 'get really sweaty episodes stomach feel really funny like free fall',\n",
       " 'feel overwhelm lately',\n",
       " 'learn much wonderful world beaubronz feel lovely tan brand fit perfectly latest mantra steal boudoir lash mother asma docrat',\n",
       " 'feel rebellious particularly like watch romcoms get feel may pretty good write',\n",
       " 'didnt feel welcome first enter morris quickly change leave feel happy',\n",
       " 'im contemplate feel skeptical',\n",
       " 'ive become anxious recent time certainly feel amongst people belief siege often disadvantage look consider way different faith make less worthy regard say',\n",
       " 'feel like care im bite heartless',\n",
       " 'hate chemo think toxins wash every single cell make feel horrible make cringe',\n",
       " 'feel honour host series talented',\n",
       " 'love feel threaten around little',\n",
       " 'feel read allthingsbucks blog bring tear eye lump throat feel worthwhile thing upset shouldnt write lame blog',\n",
       " 'feel determine didnt take long start nomming naughty stuff',\n",
       " 'feel honor many wonderful artists display work public see',\n",
       " 'remember fully stress fun feel could lively',\n",
       " 'feel daze href http twitter',\n",
       " 'feel bitchy hurt',\n",
       " 'always feel like ive assault pics',\n",
       " 'im thankful everything seem work wrap week new job also feel pretty lucky people live',\n",
       " 'feel incredibly isolate lonely',\n",
       " 'feel selfish talk anyone else thyroid want think dramatic whiny really hard understand yes someone look fine still feel terrible',\n",
       " 'blood test yesterday perhaps im feel particularly fond right doctor needle inside time spend dizzy head non meat eat nineteen year old female',\n",
       " 'admit worry feel isolate work cubicle pretty much unless someone need',\n",
       " 'im feel like life fairly sweet',\n",
       " 'go clean slate unilaterally forgive feel wrong someone love intentionally carelessness thereby time forget perceive insult abuse',\n",
       " 'feel like year teach get passionate job find love kid want try even harder',\n",
       " 'im one people bury feelings anger second give sweet smile even pain anger',\n",
       " 'know holy spirit work plus feel divine gooooood way like massage reassure',\n",
       " 'feel though ive reach point career im highly respect',\n",
       " 'make light sometimes feel really awkward small group one one conversations',\n",
       " 'ive lot good days feel fabulous lot energy lately ive also bad days feel gigantic slow clumsy',\n",
       " 'also feel like google hat seo know',\n",
       " 'didnt get wink sleep night continue feel fabulous next morning',\n",
       " 'feel like feel mistake time fuck sleep take',\n",
       " 'love slide nice big throb cock feel gorgeous body man',\n",
       " 'find novel position feel bite uncertain stock market rally',\n",
       " 'feel like judge want seem like needy girl know',\n",
       " 'im definitely feel festive',\n",
       " 'feel burden presence',\n",
       " 'still feel little daze sort disbelieve feel oh god',\n",
       " 'feel super excite weeks seem fly get closer closer due date',\n",
       " 'turn page feel like way get back irresponcible years carefree college',\n",
       " 'favourites choice book dvd us uk im feel generous limit something like',\n",
       " 'feel energetic alive happier long time',\n",
       " 'feel really pathetic confront',\n",
       " 'feel dangerous game activities',\n",
       " 'feel world class player benzema mould would fantastic',\n",
       " 'feel terribly burden impend anxiety try keep eye prize',\n",
       " 'feel could unpleasant layer love heal forgiveness expectation things turn well',\n",
       " 'im feel gloomy complete nothing though im suppose complete many things',\n",
       " 'work amount would like feel like lifestyle change successful far',\n",
       " 'love porn industry feel satisfy fulfil work say really bring big buck',\n",
       " 'overhear victory tune geeks ringtone feel triumphant',\n",
       " 'love children literature author feel need dumb things kid',\n",
       " 'soo quiet mixture sleep well feel bite isolate big group',\n",
       " 'feel greedy money hungry absolutely',\n",
       " 'feel fuck want shut',\n",
       " 'feel passionate certain topic love back position actual knowledge facts instead rely solely opinions',\n",
       " 'feel like today way suffer exam day open book everytime go home',\n",
       " 'feel surprise make',\n",
       " 'wake morning hike feel jubilant',\n",
       " 'feel like little kid whose mom proud touch soccer ball game',\n",
       " 'feel miserable inside outside like',\n",
       " 'must find way accept limitations older without feel hold back resentful',\n",
       " 'feel incredibly charm people life excite amaze chapter things',\n",
       " 'feel wrong judge people make time however also find actually life need responsible action people around us',\n",
       " 'know feelings stem part accept mainstream importantly communities seek belongingness',\n",
       " 'really like special edition really feel special songs',\n",
       " 'feel must blog constantly loyal fan baker thia sandwich scruncher course mini rex',\n",
       " 'im currently feel way fuck mother tongue paper',\n",
       " 'feel innocent love',\n",
       " 'feel like sweet carby yet low glycemic meal breakfast often dessert',\n",
       " 'feel safe encode utf locale en isprivate false ismobile false mobileclass isprivateblog false languagedirection ltr feedlinks link rel alternate type application atom xml title could use stand ovation could',\n",
       " 'really lose lot nest homemaking instinct desire pregnant longer im pregnant worse get though get month reprieve feel creative around six month mark youll notice post halloween',\n",
       " 'feel opportunity return moz gods gracious gracious way give heat desire despite self doubt uncertainty past',\n",
       " 'feel really lucky find resource always felt answer need ask',\n",
       " 'keep run hill fitness wise feel fine along foot calve start hurt also begin tire',\n",
       " 'always sensitive every sense feel like assault drag away darkness',\n",
       " 'suppose ought feel thankful add sarcastic edge age',\n",
       " 'couldnt help feel totally distraught utterly helpless lorena kidnap torture almost death band enemies desperate freedom',\n",
       " 'feel unfortunate mister magnum sound cheer travel well long periods race',\n",
       " 'feel torture tragic enough without importance sparkle',\n",
       " 'feel selfish think way feel lonely time',\n",
       " 'feel drain energy',\n",
       " 'think day chat mom amp also feel horny masturbate',\n",
       " 'feel pretty stinkin shitty horrible reviewer',\n",
       " 'feel helpless',\n",
       " 'feel awful sunday',\n",
       " 'dont know start feel weird pressure largely silent audience falsely inflate sense importance express ever articulate opinions say audience',\n",
       " 'wake nap feel extremely agitate grumpy',\n",
       " 'ive study really hard discover pretty word never cross mind portray exact mean feel like ive miss lot',\n",
       " 'feel lonely work im social bird usually school',\n",
       " 'love comment feel free post one',\n",
       " 'feel intimidate great women family tree',\n",
       " 'truly feel lot positive things help condition workers families kid',\n",
       " 'think may reason would want fly back uae oblivious conflict plague conflict feel helpless resolve',\n",
       " 'saw video cena kiss maria surprisingly didnt feel like hat',\n",
       " 'feel like rather unkind',\n",
       " 'feel submissive',\n",
       " 'feel bite obnoxious definately weather',\n",
       " 'say press torso siwons bring face close enough feel siwons agitate breath',\n",
       " 'indifferent tell feelings word treasure ever since feel start bloom one moments want keep',\n",
       " 'feel hes casual entire future',\n",
       " 'still feel strong miss couple lift',\n",
       " 'sit couch several hours feel pretty low',\n",
       " 'check long time ago say happy way back feel content everyone everything around',\n",
       " 'write something big happen like fun trip milestone time write tell im feel sweet baby snuggle grow personality',\n",
       " 'hate expectation must need man life feel worthwhile value',\n",
       " 'feel love kindness allow us think feel conscious interact various things body mind',\n",
       " 'feel completely bless part group',\n",
       " 'im type doesnt use moisturizer skin oily product design contain ton moisturize ingredients make skin feel lovely without oil',\n",
       " 'im afraid im environment make feel relax cause',\n",
       " 'feel overwhelm want physically shake everything way would spider shirt',\n",
       " 'say little piece feel agitate watch discussions race style color font family georgia serif font size px line height',\n",
       " 'feel cant touch say love bite much wont deny break heart cant find crush dont come back home',\n",
       " 'feel little frustrate ache long settle heart weariness life slip around shoulder like unwelcome friend',\n",
       " 'even remember try last year feel crappy nowhere near close',\n",
       " 'break uncles radio player accidentally fear go cut go house well play',\n",
       " 'feel conflict whether follower christ celebrate ever popular pagan originate modern day holiday',\n",
       " 'feel impatient take pills',\n",
       " 'feel carefree weightless yet worry ground time',\n",
       " 'feel sincere repentant past opposition civil right',\n",
       " 'one point put son daycare mom constantly make feel like terrible parent',\n",
       " 'things list feel super guilty relax',\n",
       " 'feel uncertain motives feel inbalance committment process counsel reconciliation',\n",
       " 'feel like really valuable',\n",
       " 'feel like go emotion angry',\n",
       " 'ive much train grammar language read something write like kind feel like im assault',\n",
       " 'feel insult everyone compare sneha',\n",
       " 'still wake every morning feel bless unable believe im lucky enough able call amaze family mine life',\n",
       " 'feel leaders countries depict people countries love god hope one think way supportive like george w',\n",
       " 'feel really horny afternoon one fulfill sexual desire bed creative thoughts help forget handss aahhh work like magic',\n",
       " 'know scones must food determine live frugal lifestyle without feel deprive',\n",
       " 'giggle nervously feel threaten',\n",
       " 'feel horrible helplessness make things better feel like kill inside',\n",
       " 'take picture house feel far messy post photos online ill clean bite post',\n",
       " 'feel hat loathe',\n",
       " 'pick feel little apprehensive',\n",
       " 'ive feel numb',\n",
       " 'im feel every bite spiteful vindictive bitch time',\n",
       " 'get feel look eye sincere',\n",
       " 'feel assure mind one',\n",
       " 'feel unfortunate dont soundtrack',\n",
       " 'believe feel nervous father reassure nothing nervous make nervous',\n",
       " 'feel uptight day complete hes around feel right little nervs dream date things pursue wed always dream mine day min',\n",
       " 'think would come fast would come suppose feel cranky today',\n",
       " 'feel im go stubborn',\n",
       " 'feel lonely lose',\n",
       " 'would feel empty',\n",
       " 'start feel agitate lack patience right cranky',\n",
       " 'know easy twist things create explanation im still sure one help feel little less mad',\n",
       " 'feel rich yup know bless',\n",
       " 'didnt tell didnt want feel afraid',\n",
       " 'love media coverage sometime feel put ugly picture',\n",
       " 'feel though little neglectful fellow bloggers',\n",
       " 'sort hate glass make eye look small since huge eye go quite upset im hop bigger frame make feel less paranoid',\n",
       " 'cant believe moment feel useful im wash dish',\n",
       " 'feel distress music mind rewrite fma op',\n",
       " 'im feel quite lonely monday half term',\n",
       " 'feel really socially awkward dont like get meet new people things group adventurous',\n",
       " 'admire athleticism feel like would entertain get watch severely shape people participate olympic events',\n",
       " 'feel horrible feel horrible make worse fact havent get workout',\n",
       " 'would hate bite imagine secretary feel irritable day eh',\n",
       " 'feel im unhappy',\n",
       " 'feel like take time care flower wonderfully loyal hive',\n",
       " 'remember feel amaze',\n",
       " 'know never see place would break heart thick layer moss encase thick shell muffle sharper feelings pleasant painful',\n",
       " 'nameless mid bottom law school graduate find marginally attach awash sea overeducated underpay indenture peer feel dupe promise better life debt modern chemistry',\n",
       " 'truly feel contribute blog world especially regard educate writers valuable',\n",
       " 'feel like would clever get ton things time',\n",
       " 'know shes right feel energetic awake patient happy im run daily still feel little bad believe breast milk much better baby formula',\n",
       " 'quickly trot add feel embarrass ask hop would enter kind conversation',\n",
       " 'hat get drink whole next day spend sleep feel groggy',\n",
       " 'love discussions class feel passionate feminist issue go write feel though fake',\n",
       " 'would want welcome home end feel mommyhood threaten inability breastfeed baby',\n",
       " 'feel agitate result pleasant opposite calm peaceful',\n",
       " 'feel honor students come class',\n",
       " 'often tell want attention especially feel horny want good sex hours',\n",
       " 'get anxious feel feel xox soon itll real thing already need flawless',\n",
       " 'feel rich bless joyful',\n",
       " 'horrible anxiety dream every night last week make feel really paranoid course read conspiracy theories unsolved crimes online didnt hugely help matter',\n",
       " 'truly feel somehow enough hate get mad',\n",
       " 'remember feel uncertain young especially become teenager',\n",
       " 'feel cant get far enough away feed melancholy long enough would wither die',\n",
       " 'want enter defiance come different culture feel offend allow',\n",
       " 'feel rebellious eat',\n",
       " 'feel agitate restless edge quite often',\n",
       " 'feel uncomfortable use word awesome idea actually',\n",
       " 'im feel rather please tonight',\n",
       " 'feel like lead gentle kind',\n",
       " 'feel like actively hat every single second rather bear',\n",
       " 'im feel indecisive scar',\n",
       " 'feel violent tug eye socket',\n",
       " 'feel carefree nowwwwww',\n",
       " 'believe display deep emotional yearn semblance normality peace since appear dance arabs feel threaten fully arm soldier',\n",
       " 'leave feel discourage hopeless',\n",
       " 'feel go get messy get fix back road',\n",
       " 'feel frustrate easier days remember bless research learn trial error hard success patience give far better garden long run',\n",
       " 'sick cold amp feel well wonder would even able patience go whitleys month photo shoot',\n",
       " 'tempt feel little bitter saw',\n",
       " 'feel kind insecure anyways back doha',\n",
       " 'grateful longer feel frantic urge fix emotional upset around',\n",
       " 'feel strange brew',\n",
       " 'feel quite strongly students punish due well badly fair compare completely unrelated group people',\n",
       " 'want job permanent feel like value',\n",
       " 'care someones emotional spiritual intellectual progress point feel like exert progress important love',\n",
       " 'actually feel comfortable speak others japanese feel pretty happy current progress',\n",
       " 'learn different things like family plan arrangements even real pain feel love one pass',\n",
       " 'feel least date would vain',\n",
       " 'like keep record life write form picture feel like even important baby',\n",
       " 'feel unhappy miserable wretched glum gloomy forelorn heartbroken',\n",
       " 'really feel horribly irritable little bite depress',\n",
       " 'feel honour part series join wonderful talented ladies celebration womanhood',\n",
       " 'feel confident team right four hours ago',\n",
       " 'simply say sorry get car get house feel restless',\n",
       " 'ive feel bite paranoid like really noticable im everyone see',\n",
       " 'feel fabulous bird weekend everyone',\n",
       " 'bus stop hear squeak baachan trolley feel little paranoid',\n",
       " 'im feel rush like plan certain things summer longer',\n",
       " 'feel cold breeze',\n",
       " 'try breathe feel frustrate breathe calm desire',\n",
       " 'feel language warn pretty benign open suggestions improve',\n",
       " 'know things head didnt really prepare heartbreak even would feel heart break danielle military wive go thru lose husband try protect country',\n",
       " 'suddenly feel lot smarter talented last night',\n",
       " 'get actually feel like everyone buy smell amaze',\n",
       " 'feel though cant bear motion quilt even though idea delight days ago',\n",
       " 'feel heartless feel bore believe love anymore',\n",
       " 'end shoeless make feel even vulnerable slow',\n",
       " 'highly critical dennis covingtons book article must admit say something merit discussion note close chapters feel god dangerous business',\n",
       " 'refer course though cant help feel somehow ironically retrospect loudons son kate mcgarrigle rather talented rufus wainwright',\n",
       " 'feel lonely days birthday',\n",
       " 'feel like capture sweet look',\n",
       " 'envision intend im feel unsure whether get vision intention right',\n",
       " 'feel like need cute picture share',\n",
       " 'feel low',\n",
       " 'feel really angry sometimes love god havent enough',\n",
       " 'feel sorry rafael bosch',\n",
       " 'hope certain people attend important things live still come back blogging feel miss blogging',\n",
       " 'feel comfortable stay house feel relentless im ask something tire almost time bore without money',\n",
       " 'guess im feel generous today decide offer fabulous deal popular print moment',\n",
       " 'begin feel unpleasant anime fandom general',\n",
       " 'feel tender disorient',\n",
       " 'feel really carefree today really carefree',\n",
       " 'feel miserable sick hop amount sleep get havent much choice zero energy cold meds vitamins lot fluids high hop feel better tomorrow',\n",
       " 'im feel cranky horrible',\n",
       " 'im comfortable relationship wont feel slutty one person amount would single',\n",
       " 'feel trouble ongoing relocation front door',\n",
       " 'ask make feel fabulous say healthy family healthy live free country',\n",
       " 'wake feel incredibly content amp optimistic today however wake terrible cold complete lack energy',\n",
       " 'im feel combination terrify relieve',\n",
       " 'really feel wrong patient',\n",
       " 'feel gulam ali even talented many classical singers',\n",
       " 'go guy someone want genuine guy would treat right spend quality time make feel special',\n",
       " 'think feel passionate favorite workout gear love see people love need live without hop share favorites comment',\n",
       " 'feel strange start sale',\n",
       " 'always notice even though fabulous hide accord rest world feel keenly greatly distress',\n",
       " 'feel shake guilty better mother shield offspring health problem',\n",
       " 'feel like greedy little traitor look look among cover hey little snotface take',\n",
       " 'feel like rude ass hole hookah',\n",
       " 'feel beloved reciprocate',\n",
       " 'feel heartbroken bryan',\n",
       " 'feel like fake everything',\n",
       " 'would feel differently believe leaders perfectly truthful',\n",
       " 'cant help feel long outside feel rain skin sticky tree droppings feet',\n",
       " 'make feel like fault control husband violent behavior even believe exist',\n",
       " 'feel like important reveal lessons youve learn tough time along ones youve learn awesome time endeavor build audience honesty authenticity',\n",
       " 'feel disgust need act cute like action gwiyomi',\n",
       " 'say feel incredibly thankful whole',\n",
       " 'feel inspire eager press sun shin',\n",
       " 'im hop walk thighs feel friendly today',\n",
       " 'feel nervous sure like anyone else would position',\n",
       " 'older might feel frighten spend time leave alone',\n",
       " 'must say feel accept something poison chalice',\n",
       " 'im introvert mean get energize alone preferably quiet place time crew galley lot people relatively small place talk leave feel drain need dark room nothing whale noise',\n",
       " 'im feel generous ill give story well',\n",
       " 'find scent pretty generic actually feel like bath amp bodyworks didnt invest much time collection like create sweet paris decide throw together two predictable scent',\n",
       " 'like person become feel much carefree liberate time dont recognize',\n",
       " 'feel numb right think feel angry dont know dont feel anything sad happy angry dont know feel anymore',\n",
       " 'feel discontent life days',\n",
       " 'im start buy whole everything happen reason bite god plan b c feel god love theres way would torture women like weve torture deal w fertility issue',\n",
       " 'feel truly impatient take long',\n",
       " 'want say want feel come bitter angry',\n",
       " 'know feel like face irate customers',\n",
       " 'always people life go way put trip make feel completely moronic worthy enough',\n",
       " 'im feel fine',\n",
       " 'prep another sleepless night help feel ashamed feel way',\n",
       " 'im feel quite please week',\n",
       " 'still feel shaky worst hit areas damage destruction complete',\n",
       " 'throw ocean feel would miss something career win oscar',\n",
       " 'feel privilege narrate erik princes autobiography civilian warriors inside story blackwater unsung heroes war terror release monday nov th',\n",
       " 'im use feel dependency neediness needy least wasnt prior recently',\n",
       " 'feel hopeful look forward',\n",
       " 'feel mccarthy place yet career really consistently humanize character balance fact suppose funny',\n",
       " 'feel uncertain uneasy',\n",
       " 'feel comfortable around',\n",
       " 'feel privilege opportunity part',\n",
       " 'feel nervous go back america know expect transition like',\n",
       " 'start feel kind skeptical',\n",
       " 'love little boy sometimes feel inadequate parent',\n",
       " 'keep things predominantly fix function arrange right create style apply twelve months previous ingredients feel much perverse usual',\n",
       " 'havent work today feel like im go feel ive stress work life week bad',\n",
       " 'feel sad discourage',\n",
       " 'think well respect recognize mother autistic boys would perfect guest blogger message feel passionate',\n",
       " 'ive course cycle happiness feel mellow feel really depress mellow back begin',\n",
       " 'im feel amaze california ness moment currently sit pool drink wine spritzer nagalene connect via google wifi use stellarium figure star',\n",
       " 'probably go back washington permanently baby least although tear whether want yes bleu know feel still completely convince',\n",
       " 'also feel strange sense guilt people arent similarly situate move different neighborhood',\n",
       " 'feel hell casual favorite blue red heavy color casual table otherwise could see tournament deck red popular possibly blue step place one zendikar block rotate',\n",
       " 'im feel agitate pour brandy coffee',\n",
       " 'feel way consider people pretend way sincere',\n",
       " 'feel give even period feel detail sharpe certainly good enough read cover cover',\n",
       " 'feel like reach plateau im buy much use feel satisfy wardrobe personal style',\n",
       " 'learn hard way three hours feel like months friendly people stop talk',\n",
       " 'feel like amaze degree biology blow away',\n",
       " 'feel hear vibrations gentle doesnt bother',\n",
       " 'feel unhappy incomplete',\n",
       " 'pretty certain use name middle name girl special feel connection poppy lovely',\n",
       " 'feel something wonderful go happen',\n",
       " 'feel reject unwanted',\n",
       " 'im get since feel accept mark beast shoot think go kill scream loud didnt want die',\n",
       " 'try let ignorance get energy feel important sometimes ill engage little light debate try broaden view world',\n",
       " 'im feel lousy may dismiss gorgeous day im feel bright cheerful dreary days become tolerable',\n",
       " 'go assume moral obligation find way make sure feel pretty damn rich every day',\n",
       " 'think would sweetly cover really feel say something pleasant bad things do whatever',\n",
       " 'ironic feel dont feel anything special still smile broadly whenever tell something',\n",
       " 'really like good morals nice respectful like feel like still belong brad couldnt picture eric hes innocent',\n",
       " 'sense wat let feel unsure',\n",
       " 'feel apprehensive future moment',\n",
       " 'extremely good friend someone course feel reluctant extent favour someone',\n",
       " 'sleep room wake middle night think could hear noise see shadow move felt someone house',\n",
       " 'sometimes feel resentful come live time',\n",
       " 'begin feel amorous towards everyone stage towards people around experience moment',\n",
       " 'sometimes feel dishearten realise far culture',\n",
       " 'im overwhelm feel bless pray fear last time say happy birthday',\n",
       " 'feel popular also little pressure keep exactly need',\n",
       " 'feel hopeless control',\n",
       " 'feel horrible cancel one best guy friends trip stress babysitting hours get cut afford',\n",
       " 'climb mountain make way village people star children look frighten run away everyone come across ask way make feel unwelcome',\n",
       " 'dont feel inhibit work problems',\n",
       " 'take chance keep cry hop might feel benevolent',\n",
       " 'do hop inspire time look solace people rather god proof maybe something good feel horrible',\n",
       " 'im feel melancholy back school stuff today',\n",
       " 'begin doubt stomach clench heart race feel fearful',\n",
       " 'like ros intimidate anna wealth anna feel guilt superior wealth enjoy',\n",
       " 'feel like really cranky school days',\n",
       " 'watch gather little block tuck belly like little red hen coo cuddle soft baby doll look interest baby help feel thrill firstborn',\n",
       " 'feel like try stay faithful possible perceive real events happen mountain',\n",
       " 'walia feel suspicious tarun bani',\n",
       " 'feel like hostile toward others fail nice',\n",
       " 'feel glad little blog share dangers see path ahead',\n",
       " 'wake feel cranky sort',\n",
       " 'say feel like im torture',\n",
       " 'cant help look back child feel rather jealous also delight live time nine year old child part world read thousand book year wish able',\n",
       " 'im feel bite cranky today',\n",
       " 'even dare say biggest stiller vaughn haters still could get enjoyment movie feel annoy performances character',\n",
       " 'make punjabi lobia masala mostly winter feel protein punch spice rich recipe winter warmer one',\n",
       " 'truly terrify still feel shake uneasy',\n",
       " 'begin feel burden things amp long empty',\n",
       " 'write space feel quite nostalgic mind race back good old days use daily park learnings memories',\n",
       " 'feel numb f',\n",
       " 'sit tonight pensive tense feel little fearful',\n",
       " 'want someone know know thoughts feelings want keep loyal faithful readers',\n",
       " 'feel joy anticipation divine right',\n",
       " 'feel overwhelm ask bqff keep house theyre ready load dont feel behind',\n",
       " 'feel thrill able investigate personal mythology around subject',\n",
       " 'feel creative right make happy',\n",
       " 'could wear casual shop trip feel fabulous without even try',\n",
       " 'want others happy mean step back yet feel like allow happy deserve even deserve',\n",
       " 'limit reasonably without cause greater injury sort physical exercise start feel horrible',\n",
       " 'would always feel amaze impact year olds subject',\n",
       " 'feel lucky live portland land delicious food',\n",
       " 'feel pretty cranky morning stop really make feel lot better',\n",
       " 'didnt feel cold fire every night',\n",
       " 'im also feel cranky main character scientist brother observe moon mention zero gravity',\n",
       " 'folk im feel sociable',\n",
       " 'feel divine force strongly sometimes wonder agnostics atheists judeo christian fundamentalists feel excitement hearts',\n",
       " 'start feel discourage think one day',\n",
       " 'feel like maybe go stop love maybe true im terrible wife',\n",
       " 'im already feel sentimental time newborn wee sadly outgrow fave thrifted outfit',\n",
       " 'feel like ive innocent version one night stand',\n",
       " 'finish type post realise ok longer feel annoy angry even sad',\n",
       " 'refuse rate book publisher feel snobbish take say jeanette winterson cannot write essentially wish anything scope explore',\n",
       " 'feel petty even though thoughts arent real flesh thoughts flutter feel like kind thoughts',\n",
       " 'felt sad apprehensive angry vertigo leave feel uncertain',\n",
       " 'feel like ive get handle trust instincts',\n",
       " 'feel complacent start think smart',\n",
       " 'admit defeat ask half come back lake coz feel uptight already',\n",
       " 'feel journalists blame',\n",
       " 'miss month combine class pretty much bed ride months semester feel really amaze able pass',\n",
       " 'put leg around wrap arm feel safe',\n",
       " 'feel loyal lucy',\n",
       " 'feel like im pretty enough like personality bore obnoxious',\n",
       " 'relieve excite feel confident',\n",
       " 'im proud craft something people care even enough click make feel wonderful',\n",
       " 'switch songs one begin make feel little melancholy fuck need',\n",
       " 'feel embarrass talk time feel small moments like favor deserve give attention',\n",
       " 'sound entitle cant help feel disappoint even though already know go',\n",
       " 'remember feel husband felt would see people rude mom mom sweet self',\n",
       " 'feel clever',\n",
       " 'feel remorseful breakfast take diet pill',\n",
       " 'feel though concept lifestyle change rather weight loss beat death really something believe currently experience',\n",
       " 'know next step longer feel lose',\n",
       " 'feel awful',\n",
       " 'believe imagine would like act live front audience make feel joyful',\n",
       " 'think maybe hand feel funny touch hair totally clean forearm become sticky',\n",
       " 'hate moment completely feel perfect people around love suddenly disappear',\n",
       " 'remember feel little jealous realize time together wasnt solely larger network social interactions ready progress get',\n",
       " 'im know feel affectionate toward adore leonard cohen make like quite lot',\n",
       " 'feel really tranquil right',\n",
       " 'feel impatient yet fully sure search',\n",
       " 'tearful feel unloved even though know',\n",
       " 'feel like everything ive nothing sincere bother want hurt even tell',\n",
       " 'feel like much write get distract home wednesday even challenge therefore lose train think',\n",
       " 'start feel little stress',\n",
       " 'admit feel bite intimidate challenge',\n",
       " 'think feel vulnerable due stress buy new sew machine printer',\n",
       " 'feel ashamed read yet',\n",
       " 'hear teenaged girl devastate pimple face morning prom feel devastate',\n",
       " 'wake beautiful sunday morning feel restless miserable',\n",
       " 'feel unwelcome work sometimes think people might talk rel bookmark feel unwelcome work sometimes think people might talk april class url fn n href http www',\n",
       " 'dont need wear mask moment show feelings beloved without missgivings',\n",
       " 'turn head away even feel frighten',\n",
       " 'feel like go supermarket buy something totally delicious dinner money mother put account today',\n",
       " 'feel fine e terminando com eight days week um ano depois',\n",
       " 'feel uncertain project',\n",
       " 'feel vital full energy every day super positive',\n",
       " 'feel completely dissatisfy whole world human character inconsistent',\n",
       " 'mean would feel euan get haul murder know innocent',\n",
       " 'experiment lot experience mention sadly make realize women feel career paths somehow go determine partner support children ther co workers etc',\n",
       " 'know high school pretty fuckin chill say girl feel insult threaten blog write would like apologize offend sorry',\n",
       " 'feel talented impact things end moment',\n",
       " 'find feel happy feel good',\n",
       " 'feel bite nostalgic wonder passion write blog time week go',\n",
       " 'im feel particularly dangerous chocolate cookie',\n",
       " 'im feel ok always hand sit close',\n",
       " 'im feel quite mellow spite rag pms past days mean im likely erupt little warn',\n",
       " 'feel like innocent victim feel win',\n",
       " 'actually think would feel bother since ehb woman ow spend quite bite time together didnt feel much anything',\n",
       " 'feel sincere want resolve grievances',\n",
       " 'also attire regular moisturizer oil base primer yet point along skin color feel look tender great time day something thats normally attainable',\n",
       " 'feel apprehensive ride ahead',\n",
       " 'feel bother',\n",
       " 'feel hint beloved art nouveau era bracelet',\n",
       " 'mostly take stairs occasionally feel particularly lethargic number consecutive late nights bow ease convenience',\n",
       " 'feel insecure unsafe',\n",
       " 'feel sort pathetic say iphone internet tv must have let honest',\n",
       " 'guess understand concern help feel little reject',\n",
       " 'lace shoe pound feelings hot black pavement',\n",
       " 'male stupid first woman cry baby get feel really cool put stupid men place',\n",
       " 'think favorite activities child often tell someone feel little unsure life direction go back childhood favorite past time hold many rich clue',\n",
       " 'take son join elihu christmastime inside fine home lovely mill work darkly light large stately christmas tree live room feel gentle one long lose friends meet first time adults people',\n",
       " 'pray everyday feel convince god call see',\n",
       " 'love everything learn feel really passionate design',\n",
       " 'feel brain damage get worst dis moment',\n",
       " 'im feel terribly adventurous plus family visit cant completely neglect mean go business usual',\n",
       " 'funeral friend kill car accident age',\n",
       " 'feel fearful near',\n",
       " 'wonder feel ecstatic',\n",
       " 'people really dont many proplems talk feel say love bitch last months vain',\n",
       " 'think write really express intensity emotion one would feel lose beloved spouse',\n",
       " 'cant imagine agony folks feel wait news sentimental things',\n",
       " 'feel make even care',\n",
       " 'feel messy',\n",
       " 'feel lethargic uninspired next morning go',\n",
       " 'feel insult',\n",
       " 'feel need little romantic boost relationship',\n",
       " 'close friend intimate bodily relationship girlfriend start avoid didnt want talk',\n",
       " 'use elevate lexicon feel intelligent',\n",
       " 'feel wrong world',\n",
       " 'feel lethargic lazy completely uncomposed dress something like',\n",
       " 'feel director editor miss teachable moment tiphany make comment nice feel like everyone else',\n",
       " 'write anything feel passionate least genuinely interest',\n",
       " 'work hard shake feelings popular genre novel non literary fiction make book less legitimate less something read enjoy analyze',\n",
       " 'feel agitate empty miss something',\n",
       " 'realize ignore better heartbreaking feel helpless',\n",
       " 'still feel little daze high alarm since hours',\n",
       " 'would feel joyful',\n",
       " 'feel like fee food touch love care compassion',\n",
       " 'feel terribly ignore sweet email',\n",
       " 'feel deeply offend big hurt feelings fact',\n",
       " 'feel overwhelm rush',\n",
       " 'feel romantic finally finish blog post',\n",
       " 'kinda steal joshua customer feel amuse',\n",
       " 'feel thrill presence eye feel belief peace sincerity',\n",
       " 'dontknow never feel way anyone else really cant without linus love never think could ever love anyone go fuck relationship',\n",
       " 'feel successful make sense',\n",
       " 'im feel low forget',\n",
       " 'feel like life practically perfect every way right every happy',\n",
       " 'feel like suffer produce something worthwhile',\n",
       " 'feel creative see alternate version',\n",
       " 'feel bite nostalgic today',\n",
       " 'feel like show change many countries take many countries way make decision include support increase women areas life',\n",
       " 'feel like dirty trash bin streets nobody really seek',\n",
       " 'make new friends process dont feel slutty lol',\n",
       " 'feel bite reluctant turn people',\n",
       " 'wake feel absolutely worthless',\n",
       " 'feel like look gorgeous curl instead make full transition end get extremely natural red lowlights bottom section hair',\n",
       " 'feel gonna start ache rainy season come next year',\n",
       " 'glad know reason recent lapse sanity still feel like want go violent rampage slightest inconvenience',\n",
       " 'one sit stare blank computer screen scratch head time drink couple pot coffee feel triumphant write first sentence first sentence usually consist poop joke',\n",
       " 'feel highs ecstatic normal feel like thousand mile drop unhappy excruciate',\n",
       " 'read one horrific sit make feel ashamed world live',\n",
       " 'could feel sweet spirit happy help',\n",
       " 'really love eat fresh figs feel delicate look much prettier ugly dry figs',\n",
       " 'id feel better',\n",
       " 'watch hgtv feel like im talented',\n",
       " 'never feel brave want believe order brave make conscious choice whether want brave',\n",
       " 'feel like offend question',\n",
       " 'probably love handful friends always feel bite strange describe love',\n",
       " 'feel hat want ignore',\n",
       " 'express gene dominant voice feel rather wonderful really writer poet carefree crazy',\n",
       " 'wonder jealous feel discontent covetousnes',\n",
       " 'feel low lately feel hopelessness disturb make tire sick entire live kind life',\n",
       " 'put hand scar cover chest feel half heart beat oh beat feel sweet rhythm remind alone',\n",
       " 'guess im feel little rebellious',\n",
       " 'feel resolve yet somehow depress',\n",
       " 'feel tender',\n",
       " 'im feel little stress already',\n",
       " 'feel like acceptable favourite yet nowhere see terpene responsible flavour',\n",
       " 'feel bite strange never felt ever really stop write blog',\n",
       " 'href http feel groggy',\n",
       " 'ive gain wieght really would like lose pound feel like ive finally get acceptable happy place',\n",
       " 'feel book explain things well easy use',\n",
       " 'feel resign bring docile',\n",
       " 'still feel alone cant give anything call feel breathe keep awake feel beat',\n",
       " 'feel love presence parent daily even though physically dead almost two decades',\n",
       " 'feel pretty jolly',\n",
       " 'read case sons ignore old helpless parent feel unhappy sad',\n",
       " 'feel humiliate body husband make advance towards remind despite ra try take life still find sexually attractive beautiful',\n",
       " 'feel kind alone helpless',\n",
       " 'feel totally ignore exclude',\n",
       " 'im feel seriously piss something fantabulous utterly stupid',\n",
       " 'wish could say hey know die tomorrow wouldnt feel cheat life regretful didnt accomplish something',\n",
       " 'could look act like know lie feel smug know ness frankly way lazy',\n",
       " 'go home feel empty',\n",
       " 'something tell girls finally feel brave enough share news',\n",
       " 'feel defeat like lion prey',\n",
       " 'like like feel like',\n",
       " 'excite hope personal us wont feel like rush',\n",
       " 'surround bible verse help transcend space feel safe secure',\n",
       " 'know feel awkwardly hesitant return melbourne',\n",
       " 'feel little less gloomy little optimistic little better prepare face life throw way',\n",
       " 'wont lie im little worry nervous feel inadequate job ill best thats heavenly father want',\n",
       " 'slough carapace crud envelop past thirty odd hours feel invigorate finally ready face day',\n",
       " 'ive busy girl good type busy im feel really happy things right love new start glasgow',\n",
       " 'mother keep leadingstrings',\n",
       " 'set mind want specific item need specific event specific time find ill end spend want feel pressure constraints',\n",
       " 'write prayer journal morning meditate greatness lord psalm write close may feel tender care today',\n",
       " 'depress actually feel inspire',\n",
       " 'feel like enough people age actually think pretty devastate come go',\n",
       " 'get home laze around pajamas feel grouchy',\n",
       " 'feel pretty homesick weekend',\n",
       " 'start feel really optimistic drive paper coz gonna teach mean ways leader',\n",
       " ...]"
      ]
     },
     "execution_count": 18,
     "metadata": {},
     "output_type": "execute_result"
    }
   ],
   "source": [
    "lemmatized_train_data"
   ]
  },
  {
   "cell_type": "code",
   "execution_count": 19,
   "id": "c7f74889",
   "metadata": {},
   "outputs": [
    {
     "data": {
      "text/plain": [
       "array([['didnt feel humiliate'],\n",
       "       ['go feel hopeless damn hopeful around someone care awake'],\n",
       "       ['im grab minute post feel greedy wrong'],\n",
       "       ...,\n",
       "       ['feel strong good overall'],\n",
       "       ['feel like rude comment im glad'],\n",
       "       ['know lot feel stupid portray']], shape=(16000, 1), dtype='<U227')"
      ]
     },
     "execution_count": 19,
     "metadata": {},
     "output_type": "execute_result"
    }
   ],
   "source": [
    "lemmatized_train_data2 = np.array(lemmatized_train_data).reshape(-1,1)\n",
    "lemmatized_train_data2"
   ]
  },
  {
   "cell_type": "code",
   "execution_count": 20,
   "id": "da622427",
   "metadata": {},
   "outputs": [
    {
     "data": {
      "text/plain": [
       "array([['didnt feel humiliate'],\n",
       "       ['go feel hopeless damn hopeful around someone care awake'],\n",
       "       ['im grab minute post feel greedy wrong'],\n",
       "       ...,\n",
       "       ['phone tech support today turn something common guy phone thoughts feelings curious world'],\n",
       "       ['try feel overwhelm everything try make small step'],\n",
       "       ['like oh thats awesome blah like remind hes interest girl like know concern make feel weird like']],\n",
       "      shape=(32172, 1), dtype='<U227')"
      ]
     },
     "execution_count": 20,
     "metadata": {},
     "output_type": "execute_result"
    }
   ],
   "source": [
    "oversample = RandomOverSampler()\n",
    "train_text_oversample, train_data_oversample = oversample.fit_resample(lemmatized_train_data2, train_data[\"label\"])\n",
    "train_text_oversample"
   ]
  },
  {
   "cell_type": "code",
   "execution_count": 21,
   "id": "cc1120f3",
   "metadata": {},
   "outputs": [
    {
     "data": {
      "text/plain": [
       "32172"
      ]
     },
     "execution_count": 21,
     "metadata": {},
     "output_type": "execute_result"
    }
   ],
   "source": [
    "train_text_oversample = train_text_oversample.flatten()\n",
    "len(train_text_oversample)"
   ]
  },
  {
   "cell_type": "code",
   "execution_count": 22,
   "id": "9d99ce29",
   "metadata": {},
   "outputs": [
    {
     "data": {
      "image/png": "[encoded data removed]",
      "text/plain": [
       "<Figure size 640x480 with 1 Axes>"
      ]
     },
     "metadata": {},
     "output_type": "display_data"
    }
   ],
   "source": [
    "label_count = Counter(train_data[\"label\"])\n",
    "label_list = dict(sorted(label_count.items())).values()\n",
    "fig, ax = plt.subplots()\n",
    "ax.bar(labels, label_list)\n",
    "plt.show()"
   ]
  },
  {
   "cell_type": "code",
   "execution_count": 23,
   "id": "48a44be0",
   "metadata": {},
   "outputs": [
    {
     "data": {
      "image/png": "[encoded data removed]",
      "text/plain": [
       "<Figure size 640x480 with 1 Axes>"
      ]
     },
     "metadata": {},
     "output_type": "display_data"
    }
   ],
   "source": [
    "label_count = Counter(train_data_oversample)\n",
    "label_list = dict(sorted(label_count.items())).values()\n",
    "fig, ax = plt.subplots()\n",
    "ax.bar(labels, label_list)\n",
    "plt.show()"
   ]
  },
  {
   "cell_type": "code",
   "execution_count": 24,
   "id": "25b2a4d5-ea1c-4196-844c-fddd2a6f2259",
   "metadata": {},
   "outputs": [
    {
     "name": "stdout",
     "output_type": "stream",
     "text": [
      "\n",
      "\n",
      "\n"
     ]
    }
   ],
   "source": [
    "# Tokenization\n",
    "vocab_n = 5000\n",
    "sequence_len = 64\n",
    "\n",
    "# Initialize a tokenizer using BPE (Byte Pair Encoding)\n",
    "tokenizer = Tokenizer(models.BPE())\n",
    "tokenizer.pre_tokenizer = Whitespace()\n",
    "tokenizer.enable_padding(length=sequence_len)\n",
    "tokenizer.enable_truncation(max_length=sequence_len)\n",
    "tokenizer_trainer = trainers.BpeTrainer(vocab_size=vocab_n)\n",
    "tokenizer.train_from_iterator(train_data[\"text\"], trainer=tokenizer_trainer)"
   ]
  },
  {
   "cell_type": "code",
   "execution_count": 25,
   "id": "b8b3d861-7e4f-48d3-b643-06e9b9a88405",
   "metadata": {},
   "outputs": [],
   "source": [
    "def preprocess_text(text: str, tokenizer: Tokenizer):\n",
    "    \"\"\" \n",
    "    Helper function to tokenize text and return corresponding token IDs as tensors.\n",
    "\n",
    "    Args:\n",
    "        text, str: Text instance from training data.\n",
    "        tokenizer, Tokenizer: The respective tokenizer to be used for tokenization.\n",
    "    Returns:\n",
    "        Tensor: One-dimensional PyTorch tensor with token IDs.\n",
    "    \"\"\"\n",
    "    return torch.tensor(tokenizer.encode(text).ids)\n",
    "\n",
    "\n",
    "def preprocess_label(label: int):\n",
    "    \"\"\" \n",
    "    Helper function to return label as tensor.\n",
    "\n",
    "    Args:\n",
    "        label, int: Label from instance.\n",
    "    Returns:\n",
    "        Tensor: One-dimensional PyTorch tensor containing the label index.\n",
    "    \"\"\"\n",
    "    return torch.tensor(label)\n",
    "\n",
    "\n",
    "def preprocess(data: list, labels: list, tokenizer: Tokenizer):\n",
    "    \"\"\" \n",
    "    Transforms input dataset to tokenized vector representations.\n",
    "\n",
    "    Args:\n",
    "        data, dict: Dictionary with text instances and labels.\n",
    "        tokenizer, Tokenizer: The respective tokenizer to be used for tokenization.\n",
    "    Returns:\n",
    "        list: List with tensors for the input texts and labels.\n",
    "    \"\"\"\n",
    "    instances = []\n",
    "\n",
    "    for text, label in zip(data, labels):\n",
    "        input = preprocess_text(text, tokenizer)\n",
    "        label = preprocess_label(label)\n",
    "        \n",
    "        instances.append((input, label))\n",
    "\n",
    "    return instances"
   ]
  },
  {
   "cell_type": "code",
   "execution_count": 26,
   "id": "85779c8a-cb93-472c-8e61-8e7aadf46fb5",
   "metadata": {},
   "outputs": [],
   "source": [
    "train_instances = preprocess(lemmatized_train_data, train_data[\"label\"], tokenizer)\n",
    "val_instances = preprocess(lemmatized_val_data, validation_data[\"label\"], tokenizer)\n",
    "test_instances = preprocess(lemmatized_test_data, test_data[\"label\"], tokenizer)"
   ]
  },
  {
   "cell_type": "code",
   "execution_count": 27,
   "id": "77ab4524",
   "metadata": {},
   "outputs": [
    {
     "data": {
      "text/plain": [
       "16000"
      ]
     },
     "execution_count": 27,
     "metadata": {},
     "output_type": "execute_result"
    }
   ],
   "source": [
    "len(train_instances)"
   ]
  },
  {
   "cell_type": "code",
   "execution_count": 28,
   "id": "ba01debf-56ad-4302-aa85-8b506e686a59",
   "metadata": {},
   "outputs": [],
   "source": [
    "# Batching\n",
    "\n",
    "def batching(instances: list, batch_size: int, shuffle: bool):\n",
    "    \"\"\" \n",
    "    Batches input instances along the given size and returns list of batches.\n",
    "\n",
    "    Args:\n",
    "        instances, list: List of instances, containing a tuple of two tensors \n",
    "            for each text as well as corresponding label.\n",
    "        batch_size, int: Size for batches.\n",
    "        shuffle, bool: If true, the instances will be shuffled before batching.\n",
    "    Returns:\n",
    "        list: List containing tuples that correspond to single batches.\n",
    "    \"\"\"\n",
    "    if shuffle:\n",
    "        random.shuffle(instances)\n",
    "\n",
    "    batches = []\n",
    "\n",
    "    # We iterate through the instances with batch_size steps\n",
    "    for i in range(0, len(instances), batch_size):\n",
    "\n",
    "        # Stacking the instances with dim=0 (default value)\n",
    "        batch_texts = torch.stack(\n",
    "            [instance[0] for instance in instances[i : i + batch_size]]\n",
    "        )\n",
    "        batch_labels = torch.stack(\n",
    "            [instance[1] for instance in instances[i : i + batch_size]]\n",
    "        )\n",
    "\n",
    "        batches.append((batch_texts, batch_labels))\n",
    "    \n",
    "    return batches"
   ]
  },
  {
   "cell_type": "code",
   "execution_count": 29,
   "id": "d5aa7e1e-9735-4c8d-8761-68d251b2036f",
   "metadata": {},
   "outputs": [],
   "source": [
    "# CNN Network\n",
    "\n",
    "class CNN_Classifier(nn.Module):\n",
    "    \"\"\" \n",
    "    CNN for sentiment classification with 6 classes, consisting of an embedding \n",
    "    layer, two convolutional layers with different filter sizes, different \n",
    "    pooling sizes, as well as one linear output layer.\n",
    "    \"\"\"\n",
    "    def __init__(self):\n",
    "        super().__init__()\n",
    "        # We can implement embeddings as a simple lookup-table for given word \n",
    "        # indices\n",
    "        self.embedding = nn.Embedding(tokenizer.get_vocab_size(), 300)\n",
    "\n",
    "        # One-dimensional convolution-layer with 300 input channels, and 100  \n",
    "        # output channels as well as kernel size of 3; note that the\n",
    "        # one-dimensional convolutional layer has 3 dimensions\n",
    "        self.conv_1 = nn.Conv1d(300, 100, 3, padding=\"same\")\n",
    "\n",
    "        # Pooling with with a one-dimensional sliding window of length 3, \n",
    "        # reducing in this fashion the sequence length \n",
    "        self.pool_1 = nn.MaxPool1d(3)\n",
    "\n",
    "        # The input will be the reduced number of maximum picks from the\n",
    "        # previous operation; the dimension of those picks is the same as the\n",
    "        # output channel size from self.conv_1. We apply a different filter of \n",
    "        # size 5.\n",
    "        self.conv_2 = nn.Conv1d(100, 50, 5, padding=\"same\")\n",
    "\n",
    "        # Pooling with window size of 5\n",
    "        self.pool_2 = nn.MaxPool1d(5)\n",
    "\n",
    "        # Final fully connected linear layer from the 50 output channels to the\n",
    "        # 6 sentiment categories \n",
    "        self.linear_layer = nn.Linear(50, 6)\n",
    "\n",
    "    def forward(self, x):\n",
    "        \"\"\" \n",
    "        Defining the forward pass of an input batch x.\n",
    "\n",
    "        Args:\n",
    "            x, tensor: The input is a batch of tweets from the data.\n",
    "        Returns:\n",
    "            y, float: The output are the logits from the final layer.\n",
    "        \"\"\"\n",
    "        # x will correspond here to a batch; therefore, the input dimensions of \n",
    "        # the embedding will be by PyTorch convention as follows:\n",
    "        # [batch_size, seq_len, emb_dim]\n",
    "        x = self.embedding(x)\n",
    "\n",
    "        # Unfortunately the embedding tensor does not correspond to the shape \n",
    "        # that is needed for nn.Conv1d(); for this reason, we must switch its \n",
    "        # order to [batch_size, emb_dim, seq_len] for PyTorch\n",
    "        x = x.permute(0, 2, 1)\n",
    "\n",
    "        # We can wrap the ReLu activation function around our convolution layer\n",
    "        # The output tensor will have the following shape: \n",
    "        # [batch_size, 100, seq_len]\n",
    "        x = nn.functional.relu(self.conv_1(x))\n",
    "\n",
    "        # Applying max pooling of size 3 means that the output length of the \n",
    "        # sequence is shrunk to seq_len//3\n",
    "        x = self.pool_1(x)\n",
    "\n",
    "        # Output of the following layer: [batch_size, 50, seq_len//3]\n",
    "        x = nn.functional.relu(self.conv_2(x))\n",
    "\n",
    "        # Shrinking the sequence length by 5\n",
    "        x = self.pool_2(x)\n",
    "        # print(x.shape)\n",
    "\n",
    "        # At this point we have a tensor with 3 dimensions; however, the final layer \n",
    "        # requires an input of size [batch_size x 50]. To get this value we can \n",
    "        # aggregate the values and continue only with their mean\n",
    "        x = x.mean(dim=-1)\n",
    "\n",
    "        # In this fasion, the linear layer can be used to make predictions\n",
    "        y = self.linear_layer(x)\n",
    "\n",
    "        return y\n",
    "    \n",
    "    def fit(self, train_instances, val_instances, epochs, batch_size):\n",
    "        \"\"\" \n",
    "        Gradient based fitting method with Adam optimization and automatic \n",
    "        evaluation (F1 score) for each epoch.\n",
    "\n",
    "        Args:\n",
    "            train_instances, list: List of instance tuples.\n",
    "            val_instances, list: List of instance tuples.\n",
    "            epochs, int: Number of training epochs.\n",
    "            batch_size, int: Number of batch size.\n",
    "        \"\"\"\n",
    "        self.train()\n",
    "        optimizer = torch.optim.Adam(self.parameters())\n",
    "\n",
    "        for epoch in range(epochs):\n",
    "            train_batches = batching(\n",
    "                train_instances,\n",
    "                batch_size=batch_size,\n",
    "                shuffle=True)\n",
    "            \n",
    "            for inputs, labels in tqdm(train_batches):\n",
    "                optimizer.zero_grad()\n",
    "                outputs = self(inputs)\n",
    "                loss = nn.functional.cross_entropy(outputs, labels)\n",
    "                loss.backward()\n",
    "                optimizer.step()\n",
    "            \n",
    "            train_f1 = self.evaluate2(train_instances, batch_size=batch_size)\n",
    "            val_f1 = self.evaluate2(val_instances, batch_size=batch_size)\n",
    "\n",
    "            print(f\"Epoch {epoch + 1} train F1 score: {train_f1}, validation F1 score: {val_f1}\")\n",
    "\n",
    "    def predict(self, input):\n",
    "        \"\"\" \n",
    "        To make inferences from the model.\n",
    "\n",
    "        Args:\n",
    "            input, tensor: Single instance.\n",
    "        Returns:\n",
    "            int: Integer for most probable class.\n",
    "        \"\"\"\n",
    "        self.eval()\n",
    "        outputs = self(input)\n",
    "\n",
    "        return torch.argmax(outputs, dim=-1)\n",
    "\n",
    "    def evaluate(self, instances, batch_size):\n",
    "        \"\"\" \n",
    "        To evaluate model's performance by various processes/standard.\n",
    "\n",
    "        Args:\n",
    "            instances, list: List of instance tuples.\n",
    "            batch_size, int: Batch size.\n",
    "        Returns:\n",
    "            float: Macro F1 score for given instances.\n",
    "        \"\"\"\n",
    "        batches = batching(instances, batch_size=batch_size, shuffle=False)\n",
    "        y_test = []\n",
    "        y_pred = []\n",
    "\n",
    "        for inputs, labels in batches:\n",
    "            y_test.extend(labels)\n",
    "            y_pred.extend(self.predict(inputs))\n",
    "\n",
    "        accuracy = accuracy_score(y_test, y_pred)\n",
    "        precision = precision_score(y_test, y_pred, average='macro')\n",
    "        recall = recall_score(y_test, y_pred, average='macro')\n",
    "        f1 = f1_score(y_test, y_pred, average='macro')\n",
    "        cm = confusion_matrix(y_test, y_pred)\n",
    "        report = classification_report(y_test, y_pred)\n",
    "        print(\"CNN Classifier:\")\n",
    "        print(f\"Accuracy: {accuracy}\")\n",
    "        print(f\"Precision: {precision}\")\n",
    "        print(f\"Recall: {recall}\")\n",
    "        print(f\"F1 Score: {f1}\")\n",
    "        print(f\"Confusion Matrix:\\n{cm}\")\n",
    "        print(f\"Classification Report:\\n{report}\")\n",
    "    \n",
    "    def evaluate2(self, instances, batch_size):\n",
    "        \"\"\" \n",
    "        To make evaluations against the gold standard (true labels) from the \n",
    "        data.\n",
    "\n",
    "        Args:\n",
    "            instances, list: List of instance tuples.\n",
    "            batch_size, int: Batch size.\n",
    "        Returns:\n",
    "            float: Macro F1 score for given instances.\n",
    "        \"\"\"\n",
    "        batches = batching(instances, batch_size=batch_size, shuffle=False)\n",
    "        true = []\n",
    "        pred = []\n",
    "\n",
    "        for inputs, labels in batches:\n",
    "            true.extend(labels)\n",
    "            pred.extend(self.predict(inputs))\n",
    "\n",
    "        return f1_score(true, pred, average=\"macro\")"
   ]
  },
  {
   "cell_type": "code",
   "execution_count": 30,
   "id": "cf02f634-df1b-498f-a9e2-b46b89ba98a4",
   "metadata": {},
   "outputs": [
    {
     "name": "stderr",
     "output_type": "stream",
     "text": [
      "100%|██████████| 1000/1000 [00:04<00:00, 245.29it/s]\n"
     ]
    },
    {
     "name": "stdout",
     "output_type": "stream",
     "text": [
      "Epoch 1 train F1 score: 0.8169364712022453, validation F1 score: 0.7363771927121089\n"
     ]
    },
    {
     "name": "stderr",
     "output_type": "stream",
     "text": [
      "100%|██████████| 1000/1000 [00:03<00:00, 259.04it/s]\n"
     ]
    },
    {
     "name": "stdout",
     "output_type": "stream",
     "text": [
      "Epoch 2 train F1 score: 0.9319277969432789, validation F1 score: 0.8519428126500328\n"
     ]
    },
    {
     "name": "stderr",
     "output_type": "stream",
     "text": [
      "100%|██████████| 1000/1000 [00:03<00:00, 257.26it/s]\n"
     ]
    },
    {
     "name": "stdout",
     "output_type": "stream",
     "text": [
      "Epoch 3 train F1 score: 0.9471526543215597, validation F1 score: 0.8434592239869322\n"
     ]
    },
    {
     "name": "stderr",
     "output_type": "stream",
     "text": [
      "100%|██████████| 1000/1000 [00:03<00:00, 256.61it/s]\n"
     ]
    },
    {
     "name": "stdout",
     "output_type": "stream",
     "text": [
      "Epoch 4 train F1 score: 0.9772918514896869, validation F1 score: 0.852887087429468\n"
     ]
    },
    {
     "name": "stderr",
     "output_type": "stream",
     "text": [
      "100%|██████████| 1000/1000 [00:03<00:00, 255.36it/s]\n"
     ]
    },
    {
     "name": "stdout",
     "output_type": "stream",
     "text": [
      "Epoch 5 train F1 score: 0.984851607859654, validation F1 score: 0.8573314703802506\n"
     ]
    },
    {
     "name": "stderr",
     "output_type": "stream",
     "text": [
      "100%|██████████| 1000/1000 [00:03<00:00, 250.36it/s]\n"
     ]
    },
    {
     "name": "stdout",
     "output_type": "stream",
     "text": [
      "Epoch 6 train F1 score: 0.9795852668330127, validation F1 score: 0.8624119691801302\n"
     ]
    },
    {
     "name": "stderr",
     "output_type": "stream",
     "text": [
      "100%|██████████| 1000/1000 [00:03<00:00, 259.89it/s]\n"
     ]
    },
    {
     "name": "stdout",
     "output_type": "stream",
     "text": [
      "Epoch 7 train F1 score: 0.9841404380447155, validation F1 score: 0.8391796060447324\n"
     ]
    },
    {
     "name": "stderr",
     "output_type": "stream",
     "text": [
      "100%|██████████| 1000/1000 [00:03<00:00, 261.17it/s]\n"
     ]
    },
    {
     "name": "stdout",
     "output_type": "stream",
     "text": [
      "Epoch 8 train F1 score: 0.991160164607671, validation F1 score: 0.8595112158771423\n"
     ]
    },
    {
     "name": "stderr",
     "output_type": "stream",
     "text": [
      "100%|██████████| 1000/1000 [00:03<00:00, 271.21it/s]\n"
     ]
    },
    {
     "name": "stdout",
     "output_type": "stream",
     "text": [
      "Epoch 9 train F1 score: 0.9883616446854697, validation F1 score: 0.8461010902212323\n"
     ]
    },
    {
     "name": "stderr",
     "output_type": "stream",
     "text": [
      "100%|██████████| 1000/1000 [00:03<00:00, 267.42it/s]\n"
     ]
    },
    {
     "name": "stdout",
     "output_type": "stream",
     "text": [
      "Epoch 10 train F1 score: 0.9950838265763751, validation F1 score: 0.855065202562554\n"
     ]
    },
    {
     "name": "stderr",
     "output_type": "stream",
     "text": [
      "100%|██████████| 1000/1000 [00:03<00:00, 266.15it/s]\n"
     ]
    },
    {
     "name": "stdout",
     "output_type": "stream",
     "text": [
      "Epoch 11 train F1 score: 0.9935490465348931, validation F1 score: 0.8553609501028571\n"
     ]
    },
    {
     "name": "stderr",
     "output_type": "stream",
     "text": [
      "100%|██████████| 1000/1000 [00:03<00:00, 266.98it/s]\n"
     ]
    },
    {
     "name": "stdout",
     "output_type": "stream",
     "text": [
      "Epoch 12 train F1 score: 0.9917539921087993, validation F1 score: 0.8542253056154238\n"
     ]
    },
    {
     "name": "stderr",
     "output_type": "stream",
     "text": [
      "100%|██████████| 1000/1000 [00:03<00:00, 255.02it/s]\n"
     ]
    },
    {
     "name": "stdout",
     "output_type": "stream",
     "text": [
      "Epoch 13 train F1 score: 0.992754472210143, validation F1 score: 0.8384616463696323\n"
     ]
    },
    {
     "name": "stderr",
     "output_type": "stream",
     "text": [
      "100%|██████████| 1000/1000 [00:03<00:00, 252.53it/s]\n"
     ]
    },
    {
     "name": "stdout",
     "output_type": "stream",
     "text": [
      "Epoch 14 train F1 score: 0.993600246534243, validation F1 score: 0.8300157729112527\n"
     ]
    },
    {
     "name": "stderr",
     "output_type": "stream",
     "text": [
      "100%|██████████| 1000/1000 [00:03<00:00, 251.13it/s]\n"
     ]
    },
    {
     "name": "stdout",
     "output_type": "stream",
     "text": [
      "Epoch 15 train F1 score: 0.9937872076350427, validation F1 score: 0.8457323169963112\n"
     ]
    },
    {
     "name": "stderr",
     "output_type": "stream",
     "text": [
      "100%|██████████| 1000/1000 [00:04<00:00, 249.35it/s]\n"
     ]
    },
    {
     "name": "stdout",
     "output_type": "stream",
     "text": [
      "Epoch 16 train F1 score: 0.9918241976807872, validation F1 score: 0.8299736464095114\n"
     ]
    },
    {
     "name": "stderr",
     "output_type": "stream",
     "text": [
      "100%|██████████| 1000/1000 [00:03<00:00, 256.86it/s]\n"
     ]
    },
    {
     "name": "stdout",
     "output_type": "stream",
     "text": [
      "Epoch 17 train F1 score: 0.9946442632212031, validation F1 score: 0.8538637347012736\n"
     ]
    },
    {
     "name": "stderr",
     "output_type": "stream",
     "text": [
      "100%|██████████| 1000/1000 [00:03<00:00, 253.33it/s]\n"
     ]
    },
    {
     "name": "stdout",
     "output_type": "stream",
     "text": [
      "Epoch 18 train F1 score: 0.9950581161239346, validation F1 score: 0.8504649577494169\n"
     ]
    },
    {
     "name": "stderr",
     "output_type": "stream",
     "text": [
      "100%|██████████| 1000/1000 [00:03<00:00, 255.11it/s]\n"
     ]
    },
    {
     "name": "stdout",
     "output_type": "stream",
     "text": [
      "Epoch 19 train F1 score: 0.994279046307978, validation F1 score: 0.8422672964856875\n"
     ]
    },
    {
     "name": "stderr",
     "output_type": "stream",
     "text": [
      "100%|██████████| 1000/1000 [00:03<00:00, 259.33it/s]\n"
     ]
    },
    {
     "name": "stdout",
     "output_type": "stream",
     "text": [
      "Epoch 20 train F1 score: 0.9952532992098052, validation F1 score: 0.8393021223006293\n"
     ]
    },
    {
     "name": "stderr",
     "output_type": "stream",
     "text": [
      "100%|██████████| 1000/1000 [00:03<00:00, 263.26it/s]\n"
     ]
    },
    {
     "name": "stdout",
     "output_type": "stream",
     "text": [
      "Epoch 21 train F1 score: 0.9953724408020258, validation F1 score: 0.8310738559086949\n"
     ]
    },
    {
     "name": "stderr",
     "output_type": "stream",
     "text": [
      "100%|██████████| 1000/1000 [00:03<00:00, 263.40it/s]\n"
     ]
    },
    {
     "name": "stdout",
     "output_type": "stream",
     "text": [
      "Epoch 22 train F1 score: 0.9942201452681964, validation F1 score: 0.8495047834107364\n"
     ]
    },
    {
     "name": "stderr",
     "output_type": "stream",
     "text": [
      "100%|██████████| 1000/1000 [00:03<00:00, 258.90it/s]\n"
     ]
    },
    {
     "name": "stdout",
     "output_type": "stream",
     "text": [
      "Epoch 23 train F1 score: 0.9953953621691584, validation F1 score: 0.8337498798284676\n"
     ]
    },
    {
     "name": "stderr",
     "output_type": "stream",
     "text": [
      "100%|██████████| 1000/1000 [00:03<00:00, 260.09it/s]\n"
     ]
    },
    {
     "name": "stdout",
     "output_type": "stream",
     "text": [
      "Epoch 24 train F1 score: 0.994385142927506, validation F1 score: 0.8340798109178501\n"
     ]
    },
    {
     "name": "stderr",
     "output_type": "stream",
     "text": [
      "100%|██████████| 1000/1000 [00:03<00:00, 259.90it/s]\n"
     ]
    },
    {
     "name": "stdout",
     "output_type": "stream",
     "text": [
      "Epoch 25 train F1 score: 0.9949333982858545, validation F1 score: 0.8410400628368419\n"
     ]
    },
    {
     "name": "stderr",
     "output_type": "stream",
     "text": [
      "100%|██████████| 1000/1000 [00:03<00:00, 261.85it/s]\n"
     ]
    },
    {
     "name": "stdout",
     "output_type": "stream",
     "text": [
      "Epoch 26 train F1 score: 0.990091463396189, validation F1 score: 0.8286096419323709\n"
     ]
    },
    {
     "name": "stderr",
     "output_type": "stream",
     "text": [
      "100%|██████████| 1000/1000 [00:03<00:00, 255.27it/s]\n"
     ]
    },
    {
     "name": "stdout",
     "output_type": "stream",
     "text": [
      "Epoch 27 train F1 score: 0.9924164278656799, validation F1 score: 0.8383880032383298\n"
     ]
    },
    {
     "name": "stderr",
     "output_type": "stream",
     "text": [
      "100%|██████████| 1000/1000 [00:03<00:00, 258.63it/s]\n"
     ]
    },
    {
     "name": "stdout",
     "output_type": "stream",
     "text": [
      "Epoch 28 train F1 score: 0.9956702019008031, validation F1 score: 0.8450866704185165\n"
     ]
    },
    {
     "name": "stderr",
     "output_type": "stream",
     "text": [
      "100%|██████████| 1000/1000 [00:03<00:00, 253.33it/s]\n"
     ]
    },
    {
     "name": "stdout",
     "output_type": "stream",
     "text": [
      "Epoch 29 train F1 score: 0.9963271991170619, validation F1 score: 0.8438278171674947\n"
     ]
    },
    {
     "name": "stderr",
     "output_type": "stream",
     "text": [
      "100%|██████████| 1000/1000 [00:03<00:00, 255.49it/s]\n"
     ]
    },
    {
     "name": "stdout",
     "output_type": "stream",
     "text": [
      "Epoch 30 train F1 score: 0.9953245136908547, validation F1 score: 0.8500207094062499\n"
     ]
    },
    {
     "name": "stderr",
     "output_type": "stream",
     "text": [
      "100%|██████████| 1000/1000 [00:03<00:00, 259.21it/s]\n"
     ]
    },
    {
     "name": "stdout",
     "output_type": "stream",
     "text": [
      "Epoch 31 train F1 score: 0.9953138414799826, validation F1 score: 0.837133389656154\n"
     ]
    },
    {
     "name": "stderr",
     "output_type": "stream",
     "text": [
      "100%|██████████| 1000/1000 [00:03<00:00, 262.01it/s]\n"
     ]
    },
    {
     "name": "stdout",
     "output_type": "stream",
     "text": [
      "Epoch 32 train F1 score: 0.9930582184825932, validation F1 score: 0.8257885020447292\n"
     ]
    },
    {
     "name": "stderr",
     "output_type": "stream",
     "text": [
      "100%|██████████| 1000/1000 [00:03<00:00, 268.40it/s]\n"
     ]
    },
    {
     "name": "stdout",
     "output_type": "stream",
     "text": [
      "Epoch 33 train F1 score: 0.9949654192706189, validation F1 score: 0.8387710059991406\n"
     ]
    },
    {
     "name": "stderr",
     "output_type": "stream",
     "text": [
      "100%|██████████| 1000/1000 [00:03<00:00, 256.92it/s]\n"
     ]
    },
    {
     "name": "stdout",
     "output_type": "stream",
     "text": [
      "Epoch 34 train F1 score: 0.9957705592158229, validation F1 score: 0.8347525230480524\n"
     ]
    },
    {
     "name": "stderr",
     "output_type": "stream",
     "text": [
      "100%|██████████| 1000/1000 [00:03<00:00, 264.19it/s]\n"
     ]
    },
    {
     "name": "stdout",
     "output_type": "stream",
     "text": [
      "Epoch 35 train F1 score: 0.9961952115943631, validation F1 score: 0.8415970127124722\n"
     ]
    },
    {
     "name": "stderr",
     "output_type": "stream",
     "text": [
      "100%|██████████| 1000/1000 [00:03<00:00, 261.65it/s]\n"
     ]
    },
    {
     "name": "stdout",
     "output_type": "stream",
     "text": [
      "Epoch 36 train F1 score: 0.9932472590349265, validation F1 score: 0.8221922907764151\n"
     ]
    },
    {
     "name": "stderr",
     "output_type": "stream",
     "text": [
      "100%|██████████| 1000/1000 [00:03<00:00, 262.36it/s]\n"
     ]
    },
    {
     "name": "stdout",
     "output_type": "stream",
     "text": [
      "Epoch 37 train F1 score: 0.9938668651141147, validation F1 score: 0.8315152035303388\n"
     ]
    },
    {
     "name": "stderr",
     "output_type": "stream",
     "text": [
      "100%|██████████| 1000/1000 [00:03<00:00, 260.37it/s]\n"
     ]
    },
    {
     "name": "stdout",
     "output_type": "stream",
     "text": [
      "Epoch 38 train F1 score: 0.9957164531900456, validation F1 score: 0.8385874415766121\n"
     ]
    },
    {
     "name": "stderr",
     "output_type": "stream",
     "text": [
      "100%|██████████| 1000/1000 [00:03<00:00, 261.21it/s]\n"
     ]
    },
    {
     "name": "stdout",
     "output_type": "stream",
     "text": [
      "Epoch 39 train F1 score: 0.9952174703819652, validation F1 score: 0.8425651683788217\n"
     ]
    },
    {
     "name": "stderr",
     "output_type": "stream",
     "text": [
      "100%|██████████| 1000/1000 [00:03<00:00, 262.83it/s]\n"
     ]
    },
    {
     "name": "stdout",
     "output_type": "stream",
     "text": [
      "Epoch 40 train F1 score: 0.9951684314440744, validation F1 score: 0.8458335034015189\n"
     ]
    },
    {
     "name": "stderr",
     "output_type": "stream",
     "text": [
      "100%|██████████| 1000/1000 [00:03<00:00, 252.42it/s]\n"
     ]
    },
    {
     "name": "stdout",
     "output_type": "stream",
     "text": [
      "Epoch 41 train F1 score: 0.9954442086461883, validation F1 score: 0.8460447732880403\n"
     ]
    },
    {
     "name": "stderr",
     "output_type": "stream",
     "text": [
      "100%|██████████| 1000/1000 [00:03<00:00, 257.19it/s]\n"
     ]
    },
    {
     "name": "stdout",
     "output_type": "stream",
     "text": [
      "Epoch 42 train F1 score: 0.9955194136931684, validation F1 score: 0.8377554108120674\n"
     ]
    },
    {
     "name": "stderr",
     "output_type": "stream",
     "text": [
      "100%|██████████| 1000/1000 [00:03<00:00, 260.16it/s]\n"
     ]
    },
    {
     "name": "stdout",
     "output_type": "stream",
     "text": [
      "Epoch 43 train F1 score: 0.9959010794373931, validation F1 score: 0.8296393013353486\n"
     ]
    },
    {
     "name": "stderr",
     "output_type": "stream",
     "text": [
      "100%|██████████| 1000/1000 [00:03<00:00, 261.36it/s]\n"
     ]
    },
    {
     "name": "stdout",
     "output_type": "stream",
     "text": [
      "Epoch 44 train F1 score: 0.9962238876557273, validation F1 score: 0.8240043676909966\n"
     ]
    },
    {
     "name": "stderr",
     "output_type": "stream",
     "text": [
      "100%|██████████| 1000/1000 [00:03<00:00, 267.02it/s]\n"
     ]
    },
    {
     "name": "stdout",
     "output_type": "stream",
     "text": [
      "Epoch 45 train F1 score: 0.9954694695906802, validation F1 score: 0.8352895640687922\n"
     ]
    },
    {
     "name": "stderr",
     "output_type": "stream",
     "text": [
      "100%|██████████| 1000/1000 [00:03<00:00, 262.82it/s]\n"
     ]
    },
    {
     "name": "stdout",
     "output_type": "stream",
     "text": [
      "Epoch 46 train F1 score: 0.9919611832870091, validation F1 score: 0.8143008043616645\n"
     ]
    },
    {
     "name": "stderr",
     "output_type": "stream",
     "text": [
      "100%|██████████| 1000/1000 [00:03<00:00, 261.50it/s]\n"
     ]
    },
    {
     "name": "stdout",
     "output_type": "stream",
     "text": [
      "Epoch 47 train F1 score: 0.9951685993284567, validation F1 score: 0.83525287101219\n"
     ]
    },
    {
     "name": "stderr",
     "output_type": "stream",
     "text": [
      "100%|██████████| 1000/1000 [00:03<00:00, 260.32it/s]\n"
     ]
    },
    {
     "name": "stdout",
     "output_type": "stream",
     "text": [
      "Epoch 48 train F1 score: 0.9962834547049183, validation F1 score: 0.8450210321020307\n"
     ]
    },
    {
     "name": "stderr",
     "output_type": "stream",
     "text": [
      "100%|██████████| 1000/1000 [00:03<00:00, 254.50it/s]\n"
     ]
    },
    {
     "name": "stdout",
     "output_type": "stream",
     "text": [
      "Epoch 49 train F1 score: 0.9963510402121645, validation F1 score: 0.8342009879556141\n"
     ]
    },
    {
     "name": "stderr",
     "output_type": "stream",
     "text": [
      "100%|██████████| 1000/1000 [00:03<00:00, 262.67it/s]\n"
     ]
    },
    {
     "name": "stdout",
     "output_type": "stream",
     "text": [
      "Epoch 50 train F1 score: 0.9959506713998932, validation F1 score: 0.8391980724518494\n"
     ]
    }
   ],
   "source": [
    "classifier = CNN_Classifier()\n",
    "classifier.fit(train_instances, val_instances, epochs=50, batch_size=16)"
   ]
  },
  {
   "cell_type": "code",
   "execution_count": 31,
   "id": "c3b6ec90-a70f-4fb7-b02c-1261f9d563c3",
   "metadata": {},
   "outputs": [
    {
     "name": "stdout",
     "output_type": "stream",
     "text": [
      "CNN Classifier:\n",
      "Accuracy: 0.8775\n",
      "Precision: 0.8229812774420534\n",
      "Recall: 0.8240593140872144\n",
      "F1 Score: 0.823113813490609\n",
      "Confusion Matrix:\n",
      "[[540  10   4  18   9   0]\n",
      " [  9 620  42  16   2   6]\n",
      " [  9  26 115   6   2   1]\n",
      " [ 15   8   1 245   4   2]\n",
      " [ 10   0   0  12 192  10]\n",
      " [  5   5   1   0  12  43]]\n",
      "Classification Report:\n",
      "              precision    recall  f1-score   support\n",
      "\n",
      "           0       0.92      0.93      0.92       581\n",
      "           1       0.93      0.89      0.91       695\n",
      "           2       0.71      0.72      0.71       159\n",
      "           3       0.82      0.89      0.86       275\n",
      "           4       0.87      0.86      0.86       224\n",
      "           5       0.69      0.65      0.67        66\n",
      "\n",
      "    accuracy                           0.88      2000\n",
      "   macro avg       0.82      0.82      0.82      2000\n",
      "weighted avg       0.88      0.88      0.88      2000\n",
      "\n"
     ]
    }
   ],
   "source": [
    "f1_test = classifier.evaluate(test_instances, batch_size=16)"
   ]
  },
  {
   "cell_type": "code",
   "execution_count": null,
   "id": "6ec18f2b-5ba1-466b-9442-fd2f2cdc8be9",
   "metadata": {},
   "outputs": [],
   "source": []
  }
 ],
 "metadata": {
  "kernelspec": {
   "display_name": ".venv",
   "language": "python",
   "name": "python3"
  },
  "language_info": {
   "codemirror_mode": {
    "name": "ipython",
    "version": 3
   },
   "file_extension": ".py",
   "mimetype": "text/x-python",
   "name": "python",
   "nbconvert_exporter": "python",
   "pygments_lexer": "ipython3",
   "version": "3.12.3"
  }
 },
 "nbformat": 4,
 "nbformat_minor": 5
}
